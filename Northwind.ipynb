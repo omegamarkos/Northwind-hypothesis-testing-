{
 "cells": [
  {
   "cell_type": "markdown",
   "metadata": {},
   "source": [
    "###### Module 3 Final Project Submission:\n",
    "\n",
    "##### Student name: Omega Markos\n",
    "##### Student pace: Part time\n",
    "##### Scheduled project review date/time:10/15/19\n",
    "##### Instructor name: Eli \n",
    "###### Video link: https://drive.google.com/open?id=1XyxS8VtbH8OUtZEvaLClxrBg8fDpKlLP"
   ]
  },
  {
   "cell_type": "markdown",
   "metadata": {},
   "source": [
    "##### Import libraries"
   ]
  },
  {
   "cell_type": "code",
   "execution_count": 5,
   "metadata": {},
   "outputs": [],
   "source": [
    "import sqlite3 as sql\n",
    "import pandas as pd\n",
    "import numpy as np\n",
    "import matplotlib.pyplot as plt\n",
    "import statsmodels.api as sm\n",
    "from statsmodels.formula.api import ols\n",
    "import seaborn as sns\n",
    "from scipy import stats\n",
    "%matplotlib inline\n"
   ]
  },
  {
   "cell_type": "markdown",
   "metadata": {},
   "source": [
    "##### Read & Explore data"
   ]
  },
  {
   "cell_type": "code",
   "execution_count": 6,
   "metadata": {},
   "outputs": [
    {
     "data": {
      "text/plain": [
       "[('Employee',),\n",
       " ('Category',),\n",
       " ('Customer',),\n",
       " ('Shipper',),\n",
       " ('Supplier',),\n",
       " ('Order',),\n",
       " ('Product',),\n",
       " ('OrderDetail',),\n",
       " ('CustomerCustomerDemo',),\n",
       " ('CustomerDemographic',),\n",
       " ('Region',),\n",
       " ('Territory',),\n",
       " ('EmployeeTerritory',)]"
      ]
     },
     "execution_count": 6,
     "metadata": {},
     "output_type": "execute_result"
    }
   ],
   "source": [
    "# list the table names\n",
    "conn = sql.connect('Northwind_small.sqlite')\n",
    "cur = conn.cursor()\n",
    "table_names = list(cur.execute('''SELECT name FROM sqlite_master WHERE TYPE = 'table'\n",
    "                               ''').fetchall())\n",
    "table_names"
   ]
  },
  {
   "cell_type": "code",
   "execution_count": 259,
   "metadata": {},
   "outputs": [],
   "source": [
    "# create a dataframe for each tables\n",
    "sql_comm = []\n",
    "for i in range(0,len(table_names)):\n",
    "    s = \"SELECT * FROM \" + table_names[i][0]\n",
    "    sql_comm.append(s) # this will give us a list name sql_comm with all the table names\n",
    "#  slice each table in sql_comm & creat a data frame for each table\n",
    "employees = pd.read_sql_query(sql_comm[0], conn)  \n",
    "categories = pd.read_sql_query(sql_comm[1], conn)\n",
    "customers = pd.read_sql_query(sql_comm[2], conn)\n",
    "shippers = pd.read_sql_query(sql_comm[3], conn)\n",
    "suppliers = pd.read_sql_query(sql_comm[4], conn)\n",
    "products = pd.read_sql_query(sql_comm[6], conn)\n",
    "order_details = pd.read_sql_query(sql_comm[7], conn)\n",
    "cust_cust_demos = pd.read_sql_query(sql_comm[8], conn)\n",
    "cust_demos = pd.read_sql_query(sql_comm[9], conn)\n",
    "regions = pd.read_sql_query(sql_comm[10], conn)\n",
    "territories = pd.read_sql_query(sql_comm[11], conn)\n",
    "emp_territories = pd.read_sql_query(sql_comm[12], conn)"
   ]
  },
  {
   "cell_type": "markdown",
   "metadata": {},
   "source": [
    "# Do discounts have a statistically significant effect on the     number of products customers order? If so, at what level(s) of discount?"
   ]
  },
  {
   "cell_type": "markdown",
   "metadata": {},
   "source": [
    "To answer this question we need to explore the order detail table."
   ]
  },
  {
   "cell_type": "markdown",
   "metadata": {},
   "source": [
    "## Experimental Design"
   ]
  },
  {
   "cell_type": "markdown",
   "metadata": {},
   "source": [
    "Sales discount is a great ways to increase revenue by attracting more customers and encourage them to buy more items.knowing the right way to give discount will help the company to increase revenue. we are trying to see if discount has an effect on the quantity of the orders and which discount has the highest effect. To analyze this we use the order_details table."
   ]
  },
  {
   "cell_type": "markdown",
   "metadata": {},
   "source": [
    "###### HO: The average quantity of product ordered is the same for orders with and without a discount.\n",
    "###### HA:The average quantity of product ordered when a discount is given is higher or lower than for orders without a discount."
   ]
  },
  {
   "cell_type": "code",
   "execution_count": 16,
   "metadata": {},
   "outputs": [
    {
     "data": {
      "text/html": [
       "<div>\n",
       "<style scoped>\n",
       "    .dataframe tbody tr th:only-of-type {\n",
       "        vertical-align: middle;\n",
       "    }\n",
       "\n",
       "    .dataframe tbody tr th {\n",
       "        vertical-align: top;\n",
       "    }\n",
       "\n",
       "    .dataframe thead th {\n",
       "        text-align: right;\n",
       "    }\n",
       "</style>\n",
       "<table border=\"1\" class=\"dataframe\">\n",
       "  <thead>\n",
       "    <tr style=\"text-align: right;\">\n",
       "      <th></th>\n",
       "      <th>Id</th>\n",
       "      <th>OrderId</th>\n",
       "      <th>ProductId</th>\n",
       "      <th>UnitPrice</th>\n",
       "      <th>Quantity</th>\n",
       "      <th>Discount</th>\n",
       "    </tr>\n",
       "  </thead>\n",
       "  <tbody>\n",
       "    <tr>\n",
       "      <th>0</th>\n",
       "      <td>10248/11</td>\n",
       "      <td>10248</td>\n",
       "      <td>11</td>\n",
       "      <td>14.0</td>\n",
       "      <td>12</td>\n",
       "      <td>0.0</td>\n",
       "    </tr>\n",
       "    <tr>\n",
       "      <th>1</th>\n",
       "      <td>10248/42</td>\n",
       "      <td>10248</td>\n",
       "      <td>42</td>\n",
       "      <td>9.8</td>\n",
       "      <td>10</td>\n",
       "      <td>0.0</td>\n",
       "    </tr>\n",
       "    <tr>\n",
       "      <th>2</th>\n",
       "      <td>10248/72</td>\n",
       "      <td>10248</td>\n",
       "      <td>72</td>\n",
       "      <td>34.8</td>\n",
       "      <td>5</td>\n",
       "      <td>0.0</td>\n",
       "    </tr>\n",
       "    <tr>\n",
       "      <th>3</th>\n",
       "      <td>10249/14</td>\n",
       "      <td>10249</td>\n",
       "      <td>14</td>\n",
       "      <td>18.6</td>\n",
       "      <td>9</td>\n",
       "      <td>0.0</td>\n",
       "    </tr>\n",
       "    <tr>\n",
       "      <th>4</th>\n",
       "      <td>10249/51</td>\n",
       "      <td>10249</td>\n",
       "      <td>51</td>\n",
       "      <td>42.4</td>\n",
       "      <td>40</td>\n",
       "      <td>0.0</td>\n",
       "    </tr>\n",
       "  </tbody>\n",
       "</table>\n",
       "</div>"
      ],
      "text/plain": [
       "         Id  OrderId  ProductId  UnitPrice  Quantity  Discount\n",
       "0  10248/11    10248         11       14.0        12       0.0\n",
       "1  10248/42    10248         42        9.8        10       0.0\n",
       "2  10248/72    10248         72       34.8         5       0.0\n",
       "3  10249/14    10249         14       18.6         9       0.0\n",
       "4  10249/51    10249         51       42.4        40       0.0"
      ]
     },
     "execution_count": 16,
     "metadata": {},
     "output_type": "execute_result"
    }
   ],
   "source": [
    "order_details.head()"
   ]
  },
  {
   "cell_type": "markdown",
   "metadata": {},
   "source": [
    "## Explanatory Data Analysis"
   ]
  },
  {
   "cell_type": "code",
   "execution_count": 26,
   "metadata": {},
   "outputs": [
    {
     "name": "stdout",
     "output_type": "stream",
     "text": [
      "<class 'pandas.core.frame.DataFrame'>\n",
      "RangeIndex: 2155 entries, 0 to 2154\n",
      "Data columns (total 6 columns):\n",
      "Id           2155 non-null object\n",
      "OrderId      2155 non-null int64\n",
      "ProductId    2155 non-null int64\n",
      "UnitPrice    2155 non-null float64\n",
      "Quantity     2155 non-null int64\n",
      "Discount     2155 non-null float64\n",
      "dtypes: float64(2), int64(3), object(1)\n",
      "memory usage: 101.1+ KB\n"
     ]
    }
   ],
   "source": [
    "order_details.info() "
   ]
  },
  {
   "cell_type": "code",
   "execution_count": 24,
   "metadata": {},
   "outputs": [
    {
     "data": {
      "text/plain": [
       "Id           0\n",
       "OrderId      0\n",
       "ProductId    0\n",
       "UnitPrice    0\n",
       "Quantity     0\n",
       "Discount     0\n",
       "dtype: int64"
      ]
     },
     "execution_count": 24,
     "metadata": {},
     "output_type": "execute_result"
    }
   ],
   "source": [
    "order_details.isna().sum() # checking for missing values"
   ]
  },
  {
   "cell_type": "code",
   "execution_count": 27,
   "metadata": {},
   "outputs": [
    {
     "data": {
      "text/html": [
       "<div>\n",
       "<style scoped>\n",
       "    .dataframe tbody tr th:only-of-type {\n",
       "        vertical-align: middle;\n",
       "    }\n",
       "\n",
       "    .dataframe tbody tr th {\n",
       "        vertical-align: top;\n",
       "    }\n",
       "\n",
       "    .dataframe thead th {\n",
       "        text-align: right;\n",
       "    }\n",
       "</style>\n",
       "<table border=\"1\" class=\"dataframe\">\n",
       "  <thead>\n",
       "    <tr style=\"text-align: right;\">\n",
       "      <th></th>\n",
       "      <th>OrderId</th>\n",
       "      <th>ProductId</th>\n",
       "      <th>UnitPrice</th>\n",
       "      <th>Quantity</th>\n",
       "      <th>Discount</th>\n",
       "    </tr>\n",
       "  </thead>\n",
       "  <tbody>\n",
       "    <tr>\n",
       "      <th>count</th>\n",
       "      <td>2155.000000</td>\n",
       "      <td>2155.000000</td>\n",
       "      <td>2155.000000</td>\n",
       "      <td>2155.000000</td>\n",
       "      <td>2155.000000</td>\n",
       "    </tr>\n",
       "    <tr>\n",
       "      <th>mean</th>\n",
       "      <td>10659.375870</td>\n",
       "      <td>40.793039</td>\n",
       "      <td>26.218520</td>\n",
       "      <td>23.812993</td>\n",
       "      <td>0.056167</td>\n",
       "    </tr>\n",
       "    <tr>\n",
       "      <th>std</th>\n",
       "      <td>241.378032</td>\n",
       "      <td>22.159019</td>\n",
       "      <td>29.827418</td>\n",
       "      <td>19.022047</td>\n",
       "      <td>0.083450</td>\n",
       "    </tr>\n",
       "    <tr>\n",
       "      <th>min</th>\n",
       "      <td>10248.000000</td>\n",
       "      <td>1.000000</td>\n",
       "      <td>2.000000</td>\n",
       "      <td>1.000000</td>\n",
       "      <td>0.000000</td>\n",
       "    </tr>\n",
       "    <tr>\n",
       "      <th>25%</th>\n",
       "      <td>10451.000000</td>\n",
       "      <td>22.000000</td>\n",
       "      <td>12.000000</td>\n",
       "      <td>10.000000</td>\n",
       "      <td>0.000000</td>\n",
       "    </tr>\n",
       "    <tr>\n",
       "      <th>50%</th>\n",
       "      <td>10657.000000</td>\n",
       "      <td>41.000000</td>\n",
       "      <td>18.400000</td>\n",
       "      <td>20.000000</td>\n",
       "      <td>0.000000</td>\n",
       "    </tr>\n",
       "    <tr>\n",
       "      <th>75%</th>\n",
       "      <td>10862.500000</td>\n",
       "      <td>60.000000</td>\n",
       "      <td>32.000000</td>\n",
       "      <td>30.000000</td>\n",
       "      <td>0.100000</td>\n",
       "    </tr>\n",
       "    <tr>\n",
       "      <th>max</th>\n",
       "      <td>11077.000000</td>\n",
       "      <td>77.000000</td>\n",
       "      <td>263.500000</td>\n",
       "      <td>130.000000</td>\n",
       "      <td>0.250000</td>\n",
       "    </tr>\n",
       "  </tbody>\n",
       "</table>\n",
       "</div>"
      ],
      "text/plain": [
       "            OrderId    ProductId    UnitPrice     Quantity     Discount\n",
       "count   2155.000000  2155.000000  2155.000000  2155.000000  2155.000000\n",
       "mean   10659.375870    40.793039    26.218520    23.812993     0.056167\n",
       "std      241.378032    22.159019    29.827418    19.022047     0.083450\n",
       "min    10248.000000     1.000000     2.000000     1.000000     0.000000\n",
       "25%    10451.000000    22.000000    12.000000    10.000000     0.000000\n",
       "50%    10657.000000    41.000000    18.400000    20.000000     0.000000\n",
       "75%    10862.500000    60.000000    32.000000    30.000000     0.100000\n",
       "max    11077.000000    77.000000   263.500000   130.000000     0.250000"
      ]
     },
     "execution_count": 27,
     "metadata": {},
     "output_type": "execute_result"
    }
   ],
   "source": [
    "order_details.describe() # descriptive analysis of the data"
   ]
  },
  {
   "cell_type": "markdown",
   "metadata": {},
   "source": [
    "###### The cheapest item sold is 2 & the most expensive item is 263. the highest discount is 25% off"
   ]
  },
  {
   "cell_type": "code",
   "execution_count": 71,
   "metadata": {},
   "outputs": [
    {
     "data": {
      "text/plain": [
       "0.00    1317\n",
       "0.05     185\n",
       "0.10     173\n",
       "0.20     161\n",
       "0.15     157\n",
       "0.25     154\n",
       "0.03       3\n",
       "0.02       2\n",
       "0.01       1\n",
       "0.04       1\n",
       "0.06       1\n",
       "Name: Discount, dtype: int64"
      ]
     },
     "execution_count": 71,
     "metadata": {},
     "output_type": "execute_result"
    }
   ],
   "source": [
    "order_details.Discount.value_counts() # to see the level of discounts values"
   ]
  },
  {
   "cell_type": "code",
   "execution_count": 107,
   "metadata": {},
   "outputs": [],
   "source": [
    "# create a new data frame showing the percentage by discount amount.\n",
    "disc_given=order_details.groupby(order_details['Discount']).agg({'Id':'count'}).reset_index().rename(columns= {'Id':'Discounts','Discount':'Discount_amount'})\n"
   ]
  },
  {
   "cell_type": "code",
   "execution_count": 108,
   "metadata": {},
   "outputs": [],
   "source": [
    "#calculate the percentage discount\n",
    "disc_given['disc_per']= round((disc_given.Discounts/disc_given.Discounts.sum())*100,0)"
   ]
  },
  {
   "cell_type": "code",
   "execution_count": 109,
   "metadata": {},
   "outputs": [
    {
     "data": {
      "text/html": [
       "<div>\n",
       "<style scoped>\n",
       "    .dataframe tbody tr th:only-of-type {\n",
       "        vertical-align: middle;\n",
       "    }\n",
       "\n",
       "    .dataframe tbody tr th {\n",
       "        vertical-align: top;\n",
       "    }\n",
       "\n",
       "    .dataframe thead th {\n",
       "        text-align: right;\n",
       "    }\n",
       "</style>\n",
       "<table border=\"1\" class=\"dataframe\">\n",
       "  <thead>\n",
       "    <tr style=\"text-align: right;\">\n",
       "      <th></th>\n",
       "      <th>Discount_amount</th>\n",
       "      <th>Discounts</th>\n",
       "      <th>disc_per</th>\n",
       "    </tr>\n",
       "  </thead>\n",
       "  <tbody>\n",
       "    <tr>\n",
       "      <th>0</th>\n",
       "      <td>0.00</td>\n",
       "      <td>1317</td>\n",
       "      <td>61.0</td>\n",
       "    </tr>\n",
       "    <tr>\n",
       "      <th>1</th>\n",
       "      <td>0.01</td>\n",
       "      <td>1</td>\n",
       "      <td>0.0</td>\n",
       "    </tr>\n",
       "    <tr>\n",
       "      <th>2</th>\n",
       "      <td>0.02</td>\n",
       "      <td>2</td>\n",
       "      <td>0.0</td>\n",
       "    </tr>\n",
       "    <tr>\n",
       "      <th>3</th>\n",
       "      <td>0.03</td>\n",
       "      <td>3</td>\n",
       "      <td>0.0</td>\n",
       "    </tr>\n",
       "    <tr>\n",
       "      <th>4</th>\n",
       "      <td>0.04</td>\n",
       "      <td>1</td>\n",
       "      <td>0.0</td>\n",
       "    </tr>\n",
       "    <tr>\n",
       "      <th>5</th>\n",
       "      <td>0.05</td>\n",
       "      <td>185</td>\n",
       "      <td>9.0</td>\n",
       "    </tr>\n",
       "    <tr>\n",
       "      <th>6</th>\n",
       "      <td>0.06</td>\n",
       "      <td>1</td>\n",
       "      <td>0.0</td>\n",
       "    </tr>\n",
       "    <tr>\n",
       "      <th>7</th>\n",
       "      <td>0.10</td>\n",
       "      <td>173</td>\n",
       "      <td>8.0</td>\n",
       "    </tr>\n",
       "    <tr>\n",
       "      <th>8</th>\n",
       "      <td>0.15</td>\n",
       "      <td>157</td>\n",
       "      <td>7.0</td>\n",
       "    </tr>\n",
       "    <tr>\n",
       "      <th>9</th>\n",
       "      <td>0.20</td>\n",
       "      <td>161</td>\n",
       "      <td>7.0</td>\n",
       "    </tr>\n",
       "    <tr>\n",
       "      <th>10</th>\n",
       "      <td>0.25</td>\n",
       "      <td>154</td>\n",
       "      <td>7.0</td>\n",
       "    </tr>\n",
       "  </tbody>\n",
       "</table>\n",
       "</div>"
      ],
      "text/plain": [
       "    Discount_amount  Discounts  disc_per\n",
       "0              0.00       1317      61.0\n",
       "1              0.01          1       0.0\n",
       "2              0.02          2       0.0\n",
       "3              0.03          3       0.0\n",
       "4              0.04          1       0.0\n",
       "5              0.05        185       9.0\n",
       "6              0.06          1       0.0\n",
       "7              0.10        173       8.0\n",
       "8              0.15        157       7.0\n",
       "9              0.20        161       7.0\n",
       "10             0.25        154       7.0"
      ]
     },
     "execution_count": 109,
     "metadata": {},
     "output_type": "execute_result"
    }
   ],
   "source": [
    "disc_given"
   ]
  },
  {
   "cell_type": "code",
   "execution_count": 96,
   "metadata": {},
   "outputs": [
    {
     "data": {
      "image/png": "[encoded data removed]",
      "text/plain": [
       "<Figure size 432x288 with 1 Axes>"
      ]
     },
     "metadata": {
      "needs_background": "light"
     },
     "output_type": "display_data"
    }
   ],
   "source": [
    "# plot the percentage discount\n",
    "disc_given.plot(x='Discount_amount', y='disc_per',kind='bar')\n",
    "plt.xlabel('Discount Amount ')\n",
    "plt.ylabel('Discount Percent')\n",
    "plt.title('Percentage of Discount')\n",
    "plt.legend()\n",
    "plt.show()"
   ]
  },
  {
   "cell_type": "code",
   "execution_count": 8,
   "metadata": {},
   "outputs": [],
   "source": [
    "#create control and experimental groups\n",
    "population = order_details['Quantity'] \n",
    "non_disc = order_details[order_details['Discount'] == 0]\n",
    "non_disc = non_disc['Quantity']\n",
    "disc = order_details[order_details['Discount'] != 0]\n",
    "disc = disc['Quantity']\n"
   ]
  },
  {
   "cell_type": "code",
   "execution_count": 96,
   "metadata": {},
   "outputs": [
    {
     "name": "stdout",
     "output_type": "stream",
     "text": [
      "The average quantity for discounted orders is 27.10978520286396\n",
      "The average quantity for non discounted orders is 21.715261958997722\n"
     ]
    }
   ],
   "source": [
    "# finding the mean for the discounted & non discounted group\n",
    "disc_ave=disc.mean()\n",
    "print (f'The average quantity for discounted orders is {disc_ave }')\n",
    "nondisc_ave=non_disc.mean()\n",
    "print (f'The average quantity for non discounted orders is {nondisc_ave }')"
   ]
  },
  {
   "cell_type": "code",
   "execution_count": 194,
   "metadata": {},
   "outputs": [
    {
     "data": {
      "text/plain": [
       "Text(0.5, 1.0, 'Discount v.s. No Discount Average Quantity of Product Per Order')"
      ]
     },
     "execution_count": 194,
     "metadata": {},
     "output_type": "execute_result"
    },
    {
     "data": {
      "image/png": "[encoded data removed]",
      "text/plain": [
       "<Figure size 432x288 with 1 Axes>"
      ]
     },
     "metadata": {
      "needs_background": "light"
     },
     "output_type": "display_data"
    }
   ],
   "source": [
    "X = ['Discount', 'No Discount']\n",
    "y = [disc.mean(),\n",
    "     non_disc.mean()]\n",
    "plt.bar(X,y, color=('grey'))\n",
    "plt.text(s=round(y[1],2), x=1, y=10, color=\"w\", horizontalalignment='center',size=18)\n",
    "plt.text(s=round(y[0],2), x=0, y=10, color=\"w\", horizontalalignment='center',size=18)\n",
    "plt.ylabel('Average Quantity')\n",
    "plt.title('Discount v.s. No Discount Average Quantity of Product Per Order')\n"
   ]
  },
  {
   "cell_type": "markdown",
   "metadata": {},
   "source": [
    "Looking at the average of the two groups it looks like the discounted group have higher average order than the non discounted group. But to confirm that  this is not happening due to randomness we do the hypothesis test."
   ]
  },
  {
   "cell_type": "markdown",
   "metadata": {},
   "source": [
    "##  Checking for assumptions: Normality& Randomness\n"
   ]
  },
  {
   "cell_type": "markdown",
   "metadata": {},
   "source": [
    "Before proceeding to our hypothesis test we need to check the three assumptions: The sample needs to be random and the distribution is normal. The size of the population is small enough to take the entire population. since we are not taking a sample, don't have the issue of sampling bias and sampling error. The next step is to check for normality.  \n"
   ]
  },
  {
   "cell_type": "code",
   "execution_count": 10,
   "metadata": {},
   "outputs": [
    {
     "name": "stderr",
     "output_type": "stream",
     "text": [
      "C:\\Users\\Omega\\Anaconda3\\envs\\learn-env\\lib\\site-packages\\scipy\\stats\\stats.py:1713: FutureWarning: Using a non-tuple sequence for multidimensional indexing is deprecated; use `arr[tuple(seq)]` instead of `arr[seq]`. In the future this will be interpreted as an array index, `arr[np.array(seq)]`, which will result either in an error or a different result.\n",
      "  return np.add.reduce(sorted[indexer] * weights, axis=axis) / sumval\n"
     ]
    },
    {
     "data": {
      "text/plain": [
       "<matplotlib.legend.Legend at 0x2c983e57dd8>"
      ]
     },
     "execution_count": 10,
     "metadata": {},
     "output_type": "execute_result"
    },
    {
     "data": {
      "image/png": "[encoded data removed]",
      "text/plain": [
       "<Figure size 1440x720 with 1 Axes>"
      ]
     },
     "metadata": {
      "needs_background": "light"
     },
     "output_type": "display_data"
    }
   ],
   "source": [
    "#plotting the two groups & the population to check for normality\n",
    "plt.figure(figsize=(20, 10))\n",
    "sns.distplot(non_disc, label='with out discount')\n",
    "sns.distplot(disc, label='with discount')\n",
    "sns.distplot(population, label='population data')\n",
    "plt.title('Distribution of quantity ordered', fontsize=16)\n",
    "plt.xlabel('quantity of product ordered', fontsize=16)\n",
    "plt.legend(frameon=False, fontsize=16, loc='best')"
   ]
  },
  {
   "cell_type": "markdown",
   "metadata": {},
   "source": [
    "The plot shows that all the distributions are skewed to the right and are not normal.But we can use the Shapiro normality check test to confirm that."
   ]
  },
  {
   "cell_type": "markdown",
   "metadata": {},
   "source": [
    "##### H0: Distribution is normal\n",
    "##### HA: Distribution is not normal"
   ]
  },
  {
   "cell_type": "code",
   "execution_count": 19,
   "metadata": {},
   "outputs": [
    {
     "data": {
      "text/plain": [
       "(0.8690301179885864, 6.88120409395894e-26)"
      ]
     },
     "execution_count": 19,
     "metadata": {},
     "output_type": "execute_result"
    }
   ],
   "source": [
    "stats.shapiro(disc) #to test if the discounted group distribution is normal"
   ]
  },
  {
   "cell_type": "code",
   "execution_count": 20,
   "metadata": {},
   "outputs": [
    {
     "data": {
      "text/plain": [
       "23.812993039443157"
      ]
     },
     "execution_count": 20,
     "metadata": {},
     "output_type": "execute_result"
    }
   ],
   "source": [
    "population.mean()"
   ]
  },
  {
   "cell_type": "code",
   "execution_count": 21,
   "metadata": {},
   "outputs": [
    {
     "data": {
      "text/plain": [
       "19.022046977493563"
      ]
     },
     "execution_count": 21,
     "metadata": {},
     "output_type": "execute_result"
    }
   ],
   "source": [
    "population.std()"
   ]
  },
  {
   "cell_type": "markdown",
   "metadata": {},
   "source": [
    "KS test is another test to check the for normality and it needs the info for population mean standard deviation. "
   ]
  },
  {
   "cell_type": "code",
   "execution_count": 23,
   "metadata": {},
   "outputs": [
    {
     "data": {
      "text/plain": [
       "KstestResult(statistic=0.1207327409135132, pvalue=4.2100545272205636e-11)"
      ]
     },
     "execution_count": 23,
     "metadata": {},
     "output_type": "execute_result"
    }
   ],
   "source": [
    "# using KS test to check for nornmality\n",
    "stats.kstest(disc, 'norm', args=(23.81, 19)) "
   ]
  },
  {
   "cell_type": "markdown",
   "metadata": {},
   "source": [
    "##### With a p value less that .05 we reject the null hypothesis and conclude that the  discounted group distribution is not normal. "
   ]
  },
  {
   "cell_type": "code",
   "execution_count": 60,
   "metadata": {},
   "outputs": [
    {
     "data": {
      "text/plain": [
       "(0.8434571027755737, 3.803856556577728e-34)"
      ]
     },
     "execution_count": 60,
     "metadata": {},
     "output_type": "execute_result"
    }
   ],
   "source": [
    "stats.shapiro(non_disc) # to test if the non discounted group is normal"
   ]
  },
  {
   "cell_type": "markdown",
   "metadata": {},
   "source": [
    "##### With a p value less that .05 we reject the null hypothesis and conclude that the   non discounted group distribution is not normal. "
   ]
  },
  {
   "cell_type": "code",
   "execution_count": 69,
   "metadata": {},
   "outputs": [
    {
     "data": {
      "text/plain": [
       "(0.851548969745636, 5.022954345372307e-41)"
      ]
     },
     "execution_count": 69,
     "metadata": {},
     "output_type": "execute_result"
    }
   ],
   "source": [
    "stats.shapiro(population) # to test the population where the sample comes from is normal"
   ]
  },
  {
   "cell_type": "markdown",
   "metadata": {},
   "source": [
    "##### With a p value less that .05 we reject the null hypothesis and conclude that the  distribution of population where the sample is coming from is not normal. "
   ]
  },
  {
   "cell_type": "code",
   "execution_count": 98,
   "metadata": {},
   "outputs": [
    {
     "data": {
      "text/plain": [
       "838"
      ]
     },
     "execution_count": 98,
     "metadata": {},
     "output_type": "execute_result"
    }
   ],
   "source": [
    "len(disc)"
   ]
  },
  {
   "cell_type": "code",
   "execution_count": 99,
   "metadata": {},
   "outputs": [
    {
     "data": {
      "text/plain": [
       "1317"
      ]
     },
     "execution_count": 99,
     "metadata": {},
     "output_type": "execute_result"
    }
   ],
   "source": [
    "len(non_disc)"
   ]
  },
  {
   "cell_type": "markdown",
   "metadata": {},
   "source": [
    "##  Choosing the right test statistics"
   ]
  },
  {
   "cell_type": "markdown",
   "metadata": {},
   "source": [
    "Even though the the distributions broke the normality assumption since we have a large sample (>30) we can proceed and do T test.To decide which t test is appropriate we need to check the sample size & variance of the two groups. we can use the Levene test to check that."
   ]
  },
  {
   "cell_type": "markdown",
   "metadata": {},
   "source": [
    "##### H0: Discounted variance and non discount variance are the same.\n",
    "##### HA: Discounted variance and non discount variance are not the same."
   ]
  },
  {
   "cell_type": "code",
   "execution_count": 97,
   "metadata": {},
   "outputs": [
    {
     "data": {
      "text/plain": [
       "LeveneResult(statistic=14.832671704073421, pvalue=0.00012091378376079568)"
      ]
     },
     "execution_count": 97,
     "metadata": {},
     "output_type": "execute_result"
    }
   ],
   "source": [
    "#Testing for equal variance between the discounted & non discounted group\n",
    "stats.levene(disc, non_disc)"
   ]
  },
  {
   "cell_type": "markdown",
   "metadata": {},
   "source": [
    "##### With low p value we reject the null hypothesis and conclude that the two groups have different variances. since the two groups have different sample sizes & variances Welch's t test the appropriate test."
   ]
  },
  {
   "cell_type": "code",
   "execution_count": 62,
   "metadata": {},
   "outputs": [
    {
     "data": {
      "text/plain": [
       "Ttest_indResult(statistic=-6.239069142123973, pvalue=5.65641429030433e-10)"
      ]
     },
     "execution_count": 62,
     "metadata": {},
     "output_type": "execute_result"
    }
   ],
   "source": [
    "# Welch's d test between discounted & non discounted group\n",
    "stats.ttest_ind(non_disc, disc, equal_var=False)"
   ]
  },
  {
   "cell_type": "markdown",
   "metadata": {},
   "source": [
    "Another test  we can use is Monte Carlo test. This test doesn't require the normality assumption and it is the best choice when the data is not normal. "
   ]
  },
  {
   "cell_type": "code",
   "execution_count": 97,
   "metadata": {},
   "outputs": [
    {
     "data": {
      "image/png": "[encoded data removed]",
      "text/plain": [
       "<Figure size 432x288 with 1 Axes>"
      ]
     },
     "metadata": {
      "needs_background": "light"
     },
     "output_type": "display_data"
    }
   ],
   "source": [
    "\n",
    "# monte carlo simulation to calculate p value\n",
    "mean_diff = disc.mean()-non_disc.mean()\n",
    "sample_diffs = []\n",
    "counter = 0\n",
    "for i in range(10000):\n",
    "    sample1 = order_details.sample(replace=False, n=len(disc))\n",
    "    sample2 = order_details.drop(sample1.index,axis=0)\n",
    "    sample_diff = sample1['Quantity'].mean() - sample2['Quantity'].mean()\n",
    "    sample_diffs.append(sample_diff)\n",
    "    if sample_diff > mean_diff:\n",
    "        counter += 1\n",
    "plt.hist(sample_diffs)\n",
    "plt.axvline(mean_diff,color = 'k')\n",
    "plt.title(f'p value :{np.round(counter/10000,3)}')\n",
    "plt.show()\n",
    "       "
   ]
  },
  {
   "cell_type": "markdown",
   "metadata": {},
   "source": [
    "##### With low p value (<0.05) for both test types of tests(Monte Carlo & Welch's t test )we reject the null hypothesis and conclude that given discount has an effect on the quantity bought. To check how high the effect is we check the effect size by using Cohen's D test."
   ]
  },
  {
   "cell_type": "code",
   "execution_count": 20,
   "metadata": {},
   "outputs": [],
   "source": [
    "# create a function to calculate Cohen's D for any two given groups\n",
    "def Cohen_d(group1, group2):\n",
    "    diff = group1.mean() - group2.mean()\n",
    "    n1, n2 = len(group1), len(group2)\n",
    "    var1 = group1.var()\n",
    "    var2 = group2.var()\n",
    "    pooled_var = (n1 * var1 + n2 * var2) / (n1 + n2)\n",
    "    # Calculate Cohen's d statistic\n",
    "    d = diff / np.sqrt(pooled_var)\n",
    "    return d"
   ]
  },
  {
   "cell_type": "code",
   "execution_count": 103,
   "metadata": {},
   "outputs": [
    {
     "data": {
      "text/plain": [
       "0.3"
      ]
     },
     "execution_count": 103,
     "metadata": {},
     "output_type": "execute_result"
    }
   ],
   "source": [
    "round(abs(Cohen_d(non_disc, disc)), 1) # taking absolute value of Cohen's d and round is to 1 decimal point"
   ]
  },
  {
   "cell_type": "markdown",
   "metadata": {},
   "source": [
    "##### We have a Cohen's D value of  0.3 which is to the lowest side of the effect size which indicates that the effect of the discount on the quantity sold is low. "
   ]
  },
  {
   "cell_type": "markdown",
   "metadata": {},
   "source": [
    "##### Checking which level of discount has effect"
   ]
  },
  {
   "cell_type": "markdown",
   "metadata": {},
   "source": [
    "If there is an effect, is there a significant level of difference between the discounts or all the discounts have the same effect? to check this we need multiple comparison between the different discounts  & ANOVA test is the best choice.\n"
   ]
  },
  {
   "cell_type": "markdown",
   "metadata": {},
   "source": [
    " ##### H0: The average quantity of product ordered is the same for each discount level.\n",
    "##### Ha: The average quantity of product ordered differs across the discount levels."
   ]
  },
  {
   "cell_type": "code",
   "execution_count": 197,
   "metadata": {},
   "outputs": [
    {
     "name": "stderr",
     "output_type": "stream",
     "text": [
      "C:\\Users\\Omega\\Anaconda3\\envs\\learn-env\\lib\\site-packages\\ipykernel_launcher.py:4: SettingWithCopyWarning: \n",
      "A value is trying to be set on a copy of a slice from a DataFrame.\n",
      "Try using .loc[row_indexer,col_indexer] = value instead\n",
      "\n",
      "See the caveats in the documentation: http://pandas.pydata.org/pandas-docs/stable/indexing.html#indexing-view-versus-copy\n",
      "  after removing the cwd from sys.path.\n"
     ]
    },
    {
     "data": {
      "text/plain": [
       "0.05    193\n",
       "0.10    173\n",
       "0.20    161\n",
       "0.15    157\n",
       "0.25    154\n",
       "Name: Discount, dtype: int64"
      ]
     },
     "execution_count": 197,
     "metadata": {},
     "output_type": "execute_result"
    }
   ],
   "source": [
    "# since we have very few discounts with less than .1 we combine them toghether as one value .05\n",
    "disc_data = order_details[order_details['Discount'] > 0]\n",
    "disc_data['Discount'] = disc_data['Discount'].apply(lambda x: 0.05 if (x > 0) & (x < 0.10) else x)\n",
    "disc_data['Discount'].value_counts()"
   ]
  },
  {
   "cell_type": "markdown",
   "metadata": {},
   "source": [
    "First let's see the plot of the average quantity ordered versus the different discounts. "
   ]
  },
  {
   "cell_type": "code",
   "execution_count": 198,
   "metadata": {},
   "outputs": [
    {
     "data": {
      "image/png": "[encoded data removed]",
      "text/plain": [
       "<Figure size 432x288 with 1 Axes>"
      ]
     },
     "metadata": {
      "needs_background": "light"
     },
     "output_type": "display_data"
    }
   ],
   "source": [
    "X = []\n",
    "y = []\n",
    "for i in disc_data['Discount'].unique():\n",
    "    X.append(i)\n",
    "    y.append(disc_data['Quantity'][disc_data['Discount'] == i].mean())\n",
    "ax = plt.bar(X,y,width=.03, color=('grey'))\n",
    "plt.ylim(0,32)\n",
    "plt.ylabel('Average Quantity')\n",
    "plt.xlabel('Discount')\n",
    "plt.title('Discount Level v.s. Average Quantity of Product Per Order')\n",
    "rects = ax.patches\n",
    "y_round = []\n",
    "for i in y:\n",
    "    y_round.append(round(i,2))\n",
    "labels = y_round\n",
    "for rect, label in zip(rects, labels):\n",
    "    height = rect.get_height()\n",
    "    plt.text(rect.get_x() + rect.get_width() / 2, height + 1, label,\n",
    "            ha='center', va='bottom')"
   ]
  },
  {
   "cell_type": "markdown",
   "metadata": {},
   "source": [
    "From the plot , we see that there is no pattern between the different discounts but we have to check that if this is not happening due to randomness using ANOVA test.\n"
   ]
  },
  {
   "cell_type": "code",
   "execution_count": 117,
   "metadata": {},
   "outputs": [
    {
     "data": {
      "text/html": [
       "<div>\n",
       "<style scoped>\n",
       "    .dataframe tbody tr th:only-of-type {\n",
       "        vertical-align: middle;\n",
       "    }\n",
       "\n",
       "    .dataframe tbody tr th {\n",
       "        vertical-align: top;\n",
       "    }\n",
       "\n",
       "    .dataframe thead th {\n",
       "        text-align: right;\n",
       "    }\n",
       "</style>\n",
       "<table border=\"1\" class=\"dataframe\">\n",
       "  <thead>\n",
       "    <tr style=\"text-align: right;\">\n",
       "      <th></th>\n",
       "      <th>df</th>\n",
       "      <th>sum_sq</th>\n",
       "      <th>mean_sq</th>\n",
       "      <th>F</th>\n",
       "      <th>PR(&gt;F)</th>\n",
       "    </tr>\n",
       "  </thead>\n",
       "  <tbody>\n",
       "    <tr>\n",
       "      <th>C(Discount)</th>\n",
       "      <td>4.0</td>\n",
       "      <td>1065.701253</td>\n",
       "      <td>266.425313</td>\n",
       "      <td>0.616376</td>\n",
       "      <td>0.650947</td>\n",
       "    </tr>\n",
       "    <tr>\n",
       "      <th>Residual</th>\n",
       "      <td>833.0</td>\n",
       "      <td>360060.198508</td>\n",
       "      <td>432.245136</td>\n",
       "      <td>NaN</td>\n",
       "      <td>NaN</td>\n",
       "    </tr>\n",
       "  </tbody>\n",
       "</table>\n",
       "</div>"
      ],
      "text/plain": [
       "                df         sum_sq     mean_sq         F    PR(>F)\n",
       "C(Discount)    4.0    1065.701253  266.425313  0.616376  0.650947\n",
       "Residual     833.0  360060.198508  432.245136       NaN       NaN"
      ]
     },
     "execution_count": 117,
     "metadata": {},
     "output_type": "execute_result"
    }
   ],
   "source": [
    "# using anova test to see  quantity & discount\n",
    "formula = 'Quantity ~ C(Discount)'\n",
    "lm = ols(formula,disc_data ).fit()\n",
    "table = sm.stats.anova_lm(lm, typ=1)\n",
    "table"
   ]
  },
  {
   "cell_type": "markdown",
   "metadata": {},
   "source": [
    "##### The p-value of our categorical 'Discount' variable is 0.651. Since this value is much higher than our alpha of 0.05, we fail to reject the null hypothesis. This suggests that the average quantities of product ordered across the discount levels are not significantly different."
   ]
  },
  {
   "cell_type": "markdown",
   "metadata": {},
   "source": [
    "## Conclusion"
   ]
  },
  {
   "cell_type": "markdown",
   "metadata": {},
   "source": [
    "Exploring the data & running the appropriate tests we can conclude that giving a discount has a low effect on the average Quantity ordered but there is no significant difference among the different discount levels."
   ]
  },
  {
   "cell_type": "markdown",
   "metadata": {},
   "source": [
    "# Does discount has an effect on the quantity ordered across the regions?"
   ]
  },
  {
   "cell_type": "markdown",
   "metadata": {},
   "source": [
    "##### H0: The effect of discount is the same across the regions.\n",
    "##### Ha: The effect of discount is different across the regions."
   ]
  },
  {
   "cell_type": "code",
   "execution_count": 27,
   "metadata": {},
   "outputs": [],
   "source": [
    "\n",
    "orders_region = pd.read_sql_query('''\n",
    "\n",
    "                        SELECT  Region, OrderId, ProductId, Discount , CustomerId, Quantity FROM OrderDetail OD\n",
    "                        JOIN [Order] O\n",
    "                        ON OD.OrderId = O.Id\n",
    "                        JOIN [Customer] C\n",
    "                        ON O.CustomerId = C.Id\n",
    "                        \n",
    "                        ''',conn)"
   ]
  },
  {
   "cell_type": "code",
   "execution_count": 16,
   "metadata": {},
   "outputs": [
    {
     "data": {
      "text/html": [
       "<div>\n",
       "<style scoped>\n",
       "    .dataframe tbody tr th:only-of-type {\n",
       "        vertical-align: middle;\n",
       "    }\n",
       "\n",
       "    .dataframe tbody tr th {\n",
       "        vertical-align: top;\n",
       "    }\n",
       "\n",
       "    .dataframe thead th {\n",
       "        text-align: right;\n",
       "    }\n",
       "</style>\n",
       "<table border=\"1\" class=\"dataframe\">\n",
       "  <thead>\n",
       "    <tr style=\"text-align: right;\">\n",
       "      <th></th>\n",
       "      <th>OrderId</th>\n",
       "      <th>ProductId</th>\n",
       "      <th>Discount</th>\n",
       "      <th>Quantity</th>\n",
       "    </tr>\n",
       "  </thead>\n",
       "  <tbody>\n",
       "    <tr>\n",
       "      <th>count</th>\n",
       "      <td>2078.000000</td>\n",
       "      <td>2078.000000</td>\n",
       "      <td>2078.000000</td>\n",
       "      <td>2078.000000</td>\n",
       "    </tr>\n",
       "    <tr>\n",
       "      <th>mean</th>\n",
       "      <td>10658.376323</td>\n",
       "      <td>40.903754</td>\n",
       "      <td>0.056035</td>\n",
       "      <td>23.924447</td>\n",
       "    </tr>\n",
       "    <tr>\n",
       "      <th>std</th>\n",
       "      <td>242.371015</td>\n",
       "      <td>22.153715</td>\n",
       "      <td>0.083421</td>\n",
       "      <td>19.151339</td>\n",
       "    </tr>\n",
       "    <tr>\n",
       "      <th>min</th>\n",
       "      <td>10248.000000</td>\n",
       "      <td>1.000000</td>\n",
       "      <td>0.000000</td>\n",
       "      <td>1.000000</td>\n",
       "    </tr>\n",
       "    <tr>\n",
       "      <th>25%</th>\n",
       "      <td>10449.000000</td>\n",
       "      <td>22.000000</td>\n",
       "      <td>0.000000</td>\n",
       "      <td>10.000000</td>\n",
       "    </tr>\n",
       "    <tr>\n",
       "      <th>50%</th>\n",
       "      <td>10656.000000</td>\n",
       "      <td>41.000000</td>\n",
       "      <td>0.000000</td>\n",
       "      <td>20.000000</td>\n",
       "    </tr>\n",
       "    <tr>\n",
       "      <th>75%</th>\n",
       "      <td>10861.000000</td>\n",
       "      <td>60.000000</td>\n",
       "      <td>0.100000</td>\n",
       "      <td>30.000000</td>\n",
       "    </tr>\n",
       "    <tr>\n",
       "      <th>max</th>\n",
       "      <td>11077.000000</td>\n",
       "      <td>77.000000</td>\n",
       "      <td>0.250000</td>\n",
       "      <td>130.000000</td>\n",
       "    </tr>\n",
       "  </tbody>\n",
       "</table>\n",
       "</div>"
      ],
      "text/plain": [
       "            OrderId    ProductId     Discount     Quantity\n",
       "count   2078.000000  2078.000000  2078.000000  2078.000000\n",
       "mean   10658.376323    40.903754     0.056035    23.924447\n",
       "std      242.371015    22.153715     0.083421    19.151339\n",
       "min    10248.000000     1.000000     0.000000     1.000000\n",
       "25%    10449.000000    22.000000     0.000000    10.000000\n",
       "50%    10656.000000    41.000000     0.000000    20.000000\n",
       "75%    10861.000000    60.000000     0.100000    30.000000\n",
       "max    11077.000000    77.000000     0.250000   130.000000"
      ]
     },
     "execution_count": 16,
     "metadata": {},
     "output_type": "execute_result"
    }
   ],
   "source": [
    "orders_region.describe()"
   ]
  },
  {
   "cell_type": "code",
   "execution_count": 17,
   "metadata": {},
   "outputs": [],
   "source": [
    "nondiscorder_reg = orders_region[orders_region['Discount'] == 0]\n",
    "discorder_reg = orders_region[orders_region['Discount'] != 0]\n",
    "#discorder_q = discorder_reg['Quantity']"
   ]
  },
  {
   "cell_type": "code",
   "execution_count": 39,
   "metadata": {},
   "outputs": [
    {
     "data": {
      "text/html": [
       "<div>\n",
       "<style scoped>\n",
       "    .dataframe tbody tr th:only-of-type {\n",
       "        vertical-align: middle;\n",
       "    }\n",
       "\n",
       "    .dataframe tbody tr th {\n",
       "        vertical-align: top;\n",
       "    }\n",
       "\n",
       "    .dataframe thead th {\n",
       "        text-align: right;\n",
       "    }\n",
       "</style>\n",
       "<table border=\"1\" class=\"dataframe\">\n",
       "  <thead>\n",
       "    <tr style=\"text-align: right;\">\n",
       "      <th></th>\n",
       "      <th>OrderId</th>\n",
       "      <th>ProductId</th>\n",
       "      <th>Discount</th>\n",
       "      <th>Quantity</th>\n",
       "    </tr>\n",
       "    <tr>\n",
       "      <th>Region</th>\n",
       "      <th></th>\n",
       "      <th></th>\n",
       "      <th></th>\n",
       "      <th></th>\n",
       "    </tr>\n",
       "  </thead>\n",
       "  <tbody>\n",
       "    <tr>\n",
       "      <th>British Isles</th>\n",
       "      <td>10613.704918</td>\n",
       "      <td>38.393443</td>\n",
       "      <td>0.153279</td>\n",
       "      <td>31.327869</td>\n",
       "    </tr>\n",
       "    <tr>\n",
       "      <th>North America</th>\n",
       "      <td>10668.653179</td>\n",
       "      <td>39.786127</td>\n",
       "      <td>0.148786</td>\n",
       "      <td>30.849711</td>\n",
       "    </tr>\n",
       "    <tr>\n",
       "      <th>Northern Europe</th>\n",
       "      <td>10704.379310</td>\n",
       "      <td>42.482759</td>\n",
       "      <td>0.171552</td>\n",
       "      <td>25.189655</td>\n",
       "    </tr>\n",
       "    <tr>\n",
       "      <th>Scandinavia</th>\n",
       "      <td>10628.266667</td>\n",
       "      <td>36.400000</td>\n",
       "      <td>0.133333</td>\n",
       "      <td>18.466667</td>\n",
       "    </tr>\n",
       "    <tr>\n",
       "      <th>South America</th>\n",
       "      <td>10674.871795</td>\n",
       "      <td>39.239316</td>\n",
       "      <td>0.152137</td>\n",
       "      <td>19.948718</td>\n",
       "    </tr>\n",
       "    <tr>\n",
       "      <th>Southern Europe</th>\n",
       "      <td>10624.508475</td>\n",
       "      <td>42.644068</td>\n",
       "      <td>0.126271</td>\n",
       "      <td>17.745763</td>\n",
       "    </tr>\n",
       "    <tr>\n",
       "      <th>Western Europe</th>\n",
       "      <td>10644.848297</td>\n",
       "      <td>39.368421</td>\n",
       "      <td>0.136687</td>\n",
       "      <td>29.380805</td>\n",
       "    </tr>\n",
       "  </tbody>\n",
       "</table>\n",
       "</div>"
      ],
      "text/plain": [
       "                      OrderId  ProductId  Discount   Quantity\n",
       "Region                                                       \n",
       "British Isles    10613.704918  38.393443  0.153279  31.327869\n",
       "North America    10668.653179  39.786127  0.148786  30.849711\n",
       "Northern Europe  10704.379310  42.482759  0.171552  25.189655\n",
       "Scandinavia      10628.266667  36.400000  0.133333  18.466667\n",
       "South America    10674.871795  39.239316  0.152137  19.948718\n",
       "Southern Europe  10624.508475  42.644068  0.126271  17.745763\n",
       "Western Europe   10644.848297  39.368421  0.136687  29.380805"
      ]
     },
     "execution_count": 39,
     "metadata": {},
     "output_type": "execute_result"
    }
   ],
   "source": [
    "discorder_reg.groupby('Region').mean()"
   ]
  },
  {
   "cell_type": "code",
   "execution_count": 47,
   "metadata": {},
   "outputs": [
    {
     "data": {
      "text/html": [
       "<div>\n",
       "<style scoped>\n",
       "    .dataframe tbody tr th:only-of-type {\n",
       "        vertical-align: middle;\n",
       "    }\n",
       "\n",
       "    .dataframe tbody tr th {\n",
       "        vertical-align: top;\n",
       "    }\n",
       "\n",
       "    .dataframe thead th {\n",
       "        text-align: right;\n",
       "    }\n",
       "</style>\n",
       "<table border=\"1\" class=\"dataframe\">\n",
       "  <thead>\n",
       "    <tr style=\"text-align: right;\">\n",
       "      <th></th>\n",
       "      <th>OrderId</th>\n",
       "      <th>ProductId</th>\n",
       "      <th>Discount</th>\n",
       "      <th>Quantity</th>\n",
       "    </tr>\n",
       "    <tr>\n",
       "      <th>Region</th>\n",
       "      <th></th>\n",
       "      <th></th>\n",
       "      <th></th>\n",
       "      <th></th>\n",
       "    </tr>\n",
       "  </thead>\n",
       "  <tbody>\n",
       "    <tr>\n",
       "      <th>British Isles</th>\n",
       "      <td>10650.093023</td>\n",
       "      <td>41.914729</td>\n",
       "      <td>0.0</td>\n",
       "      <td>19.496124</td>\n",
       "    </tr>\n",
       "    <tr>\n",
       "      <th>Central America</th>\n",
       "      <td>10584.090909</td>\n",
       "      <td>38.236364</td>\n",
       "      <td>0.0</td>\n",
       "      <td>12.109091</td>\n",
       "    </tr>\n",
       "    <tr>\n",
       "      <th>Eastern Europe</th>\n",
       "      <td>10789.937500</td>\n",
       "      <td>44.937500</td>\n",
       "      <td>0.0</td>\n",
       "      <td>12.812500</td>\n",
       "    </tr>\n",
       "    <tr>\n",
       "      <th>North America</th>\n",
       "      <td>10694.314961</td>\n",
       "      <td>40.299213</td>\n",
       "      <td>0.0</td>\n",
       "      <td>23.531496</td>\n",
       "    </tr>\n",
       "    <tr>\n",
       "      <th>Northern Europe</th>\n",
       "      <td>10618.188235</td>\n",
       "      <td>45.388235</td>\n",
       "      <td>0.0</td>\n",
       "      <td>22.870588</td>\n",
       "    </tr>\n",
       "    <tr>\n",
       "      <th>Scandinavia</th>\n",
       "      <td>10650.454545</td>\n",
       "      <td>37.545455</td>\n",
       "      <td>0.0</td>\n",
       "      <td>13.981818</td>\n",
       "    </tr>\n",
       "    <tr>\n",
       "      <th>South America</th>\n",
       "      <td>10666.363636</td>\n",
       "      <td>40.967914</td>\n",
       "      <td>0.0</td>\n",
       "      <td>21.524064</td>\n",
       "    </tr>\n",
       "    <tr>\n",
       "      <th>Southern Europe</th>\n",
       "      <td>10681.858974</td>\n",
       "      <td>41.769231</td>\n",
       "      <td>0.0</td>\n",
       "      <td>13.153846</td>\n",
       "    </tr>\n",
       "    <tr>\n",
       "      <th>Western Europe</th>\n",
       "      <td>10652.602906</td>\n",
       "      <td>42.694915</td>\n",
       "      <td>0.0</td>\n",
       "      <td>25.983051</td>\n",
       "    </tr>\n",
       "  </tbody>\n",
       "</table>\n",
       "</div>"
      ],
      "text/plain": [
       "                      OrderId  ProductId  Discount   Quantity\n",
       "Region                                                       \n",
       "British Isles    10650.093023  41.914729       0.0  19.496124\n",
       "Central America  10584.090909  38.236364       0.0  12.109091\n",
       "Eastern Europe   10789.937500  44.937500       0.0  12.812500\n",
       "North America    10694.314961  40.299213       0.0  23.531496\n",
       "Northern Europe  10618.188235  45.388235       0.0  22.870588\n",
       "Scandinavia      10650.454545  37.545455       0.0  13.981818\n",
       "South America    10666.363636  40.967914       0.0  21.524064\n",
       "Southern Europe  10681.858974  41.769231       0.0  13.153846\n",
       "Western Europe   10652.602906  42.694915       0.0  25.983051"
      ]
     },
     "execution_count": 47,
     "metadata": {},
     "output_type": "execute_result"
    }
   ],
   "source": [
    "nondiscorder_reg.groupby('Region').mean()"
   ]
  },
  {
   "cell_type": "code",
   "execution_count": 41,
   "metadata": {},
   "outputs": [
    {
     "name": "stdout",
     "output_type": "stream",
     "text": [
      "                  sum_sq     df         F        PR(>F)\n",
      "C(Region)   17678.580756    6.0  7.037177  2.587854e-07\n",
      "Residual   334537.221974  799.0       NaN           NaN\n"
     ]
    }
   ],
   "source": [
    "# ANOVA test quantity vs regions \n",
    "formula = 'Quantity ~ C(Region)'\n",
    "lm = ols(formula, discorder_reg).fit()\n",
    "table = sm.stats.anova_lm(lm, typ=2)\n",
    "print(table)"
   ]
  },
  {
   "cell_type": "markdown",
   "metadata": {},
   "source": [
    "##### With p value less than 0.05 we reject the null hypothesis and that means is discount has a significant effect on the quantities purchased across the different regions.          which region has higher effect? "
   ]
  },
  {
   "cell_type": "code",
   "execution_count": 38,
   "metadata": {},
   "outputs": [
    {
     "data": {
      "text/plain": [
       "array(['Western Europe', 'South America', 'Central America',\n",
       "       'North America', 'Northern Europe', 'Scandinavia',\n",
       "       'Southern Europe', 'British Isles', 'Eastern Europe'], dtype=object)"
      ]
     },
     "execution_count": 38,
     "metadata": {},
     "output_type": "execute_result"
    }
   ],
   "source": [
    "# list of regions\n",
    "regionlist=orders_region.Region.unique()\n",
    "regionlist"
   ]
  },
  {
   "cell_type": "code",
   "execution_count": 45,
   "metadata": {},
   "outputs": [
    {
     "name": "stdout",
     "output_type": "stream",
     "text": [
      "effect size for Western Europe is 0.16\n",
      "effect size for South America is 0.11\n",
      "effect size for Central America is nan\n",
      "effect size for North America is 0.33\n",
      "effect size for Northern Europe is 0.16\n",
      "effect size for Scandinavia is 0.44\n",
      "effect size for Southern Europe is 0.42\n",
      "effect size for British Isles is 0.7\n",
      "effect size for Eastern Europe is nan\n"
     ]
    }
   ],
   "source": [
    "#calculating Cohen's D for each region\n",
    "for i in regionlist:\n",
    "    d=Cohen_d(nondiscorder_reg[nondiscorder_reg['Region'] ==i]['Quantity'], discorder_reg[discorder_reg['Region'] == i]['Quantity'])\n",
    "    print (f'effect size for {i} is {round(abs(d),2)}' )"
   ]
  },
  {
   "cell_type": "markdown",
   "metadata": {},
   "source": [
    "Relatively,discount has the highest effect on the average quantity in the British Isles region.followed by Scandinavia and southern Europe. "
   ]
  },
  {
   "cell_type": "code",
   "execution_count": 195,
   "metadata": {},
   "outputs": [
    {
     "data": {
      "image/png": "[encoded data removed]",
      "text/plain": [
       "<Figure size 432x288 with 1 Axes>"
      ]
     },
     "metadata": {
      "needs_background": "light"
     },
     "output_type": "display_data"
    }
   ],
   "source": [
    "# plot d is  discount effect size by region :\n",
    "d= [0.16,0.11,0,0.33,0.16,0.44,0.42,0.7,0]\n",
    "region = ('Western Europe','South America','Central America','North America','Northern Europe','Scandinavia','Southern Europe','British Isles','Eastern Europe')\n",
    "y_pos = np.arange(len(region))\n",
    "# Create bars\n",
    "plt.barh(y_pos, d, color=('grey'))\n",
    "# Create names on the x-axis\n",
    "plt.yticks(y_pos, region)\n",
    "# Show graphic\n",
    "plt.ylabel('Regions')\n",
    "plt.xlabel('Discount Effect')\n",
    "plt.title('Discount Effect by Region')\n",
    "plt.show()\n"
   ]
  },
  {
   "cell_type": "code",
   "execution_count": null,
   "metadata": {},
   "outputs": [],
   "source": [
    "nondiscorder_reg[nondiscorder_reg['Region'] =='Scandinavia']['Quantity']"
   ]
  },
  {
   "cell_type": "code",
   "execution_count": 43,
   "metadata": {},
   "outputs": [
    {
     "name": "stdout",
     "output_type": "stream",
     "text": [
      "       Multiple Comparison of Means - Tukey HSD,FWER=0.05       \n",
      "================================================================\n",
      "     group1          group2     meandiff  lower    upper  reject\n",
      "----------------------------------------------------------------\n",
      " British Isles   North America  -0.4782  -9.4845   8.5282 False \n",
      " British Isles  Northern Europe -6.1382  -17.2306  4.9541 False \n",
      " British Isles    Scandinavia   -12.8612 -30.2923  4.5699 False \n",
      " British Isles   South America  -11.3792 -20.9309 -1.8274  True \n",
      " British Isles  Southern Europe -13.5821 -24.6262 -2.5381  True \n",
      " British Isles   Western Europe -1.9471  -10.3907  6.4965 False \n",
      " North America  Northern Europe -5.6601  -14.837   3.5169 False \n",
      " North America    Scandinavia   -12.383  -28.6625  3.8964 False \n",
      " North America   South America  -10.901  -18.1405 -3.6614  True \n",
      " North America  Southern Europe -13.1039 -22.2225 -3.9854  True \n",
      " North America   Western Europe -1.4689  -7.1672   4.2294 False \n",
      "Northern Europe   Scandinavia    -6.723  -24.2428 10.7969 False \n",
      "Northern Europe  South America  -5.2409  -14.9537  4.4718 False \n",
      "Northern Europe Southern Europe -7.4439  -18.6275  3.7397 False \n",
      "Northern Europe  Western Europe  4.1911  -4.4342  12.8165 False \n",
      "  Scandinavia    South America   1.4821  -15.1053 18.0694 False \n",
      "  Scandinavia   Southern Europe -0.7209  -18.2102 16.7684 False \n",
      "  Scandinavia    Western Europe 10.9141  -5.0608  26.8891 False \n",
      " South America  Southern Europe  -2.203  -11.8605  7.4546 False \n",
      " South America   Western Europe  9.4321   2.9059  15.9583  True \n",
      "Southern Europe  Western Europe  11.635   3.0719  20.1982  True \n",
      "----------------------------------------------------------------\n"
     ]
    }
   ],
   "source": [
    "from statsmodels.stats.multicomp import pairwise_tukeyhsd, MultiComparison\n",
    "mod = MultiComparison(discorder_reg.Quantity, discorder_reg.Region)\n",
    "print(mod.tukeyhsd())"
   ]
  },
  {
   "cell_type": "markdown",
   "metadata": {},
   "source": [
    "##### Conclusion : Discount has significantly low effect in South America & Southern Europe."
   ]
  },
  {
   "cell_type": "markdown",
   "metadata": {},
   "source": [
    "# Do late deliveries affect Customer's ordering?"
   ]
  },
  {
   "cell_type": "code",
   "execution_count": 222,
   "metadata": {},
   "outputs": [],
   "source": [
    "# cur.execute(\"\"\"SELECT *\n",
    "#               FROM [order];\n",
    "#               \"\"\")\n",
    "# orders = pd.DataFrame(cur.fetchall())\n",
    "# orders.columns = [i[0] for i in cur.description]\n",
    "# orders.head()"
   ]
  },
  {
   "cell_type": "code",
   "execution_count": 223,
   "metadata": {},
   "outputs": [],
   "source": [
    "# order_details.head()"
   ]
  },
  {
   "cell_type": "code",
   "execution_count": 224,
   "metadata": {},
   "outputs": [],
   "source": [
    "query = \"\"\"\n",
    "SELECT\n",
    "   o.Id,\n",
    "   o.CustomerId,\n",
    "   o.OrderDate,\n",
    "   o.RequiredDate,\n",
    "   o.ShippedDate,\n",
    "   o.ShipVia,\n",
    "   od.OrderId,\n",
    "   od.ProductId,\n",
    "   SUM(od.UnitPrice) as UnitPrice,\n",
    "   SUM(od.Quantity) as Quantity,\n",
    "   SUM(od.Discount) as Discount,\n",
    "   SUM(od.UnitPrice * od.Quantity * (1-od.Discount))as OrderTotal\n",
    "FROM\n",
    "   [Order] o\n",
    "   JOIN\n",
    "   [OrderDetail] od\n",
    "WHERE o.Id = od.OrderId\n",
    "GROUP BY od.OrderId\n",
    "\"\"\"\n",
    "ordersl = pd.read_sql_query(query, conn)"
   ]
  },
  {
   "cell_type": "code",
   "execution_count": 229,
   "metadata": {},
   "outputs": [
    {
     "data": {
      "text/html": [
       "<div>\n",
       "<style scoped>\n",
       "    .dataframe tbody tr th:only-of-type {\n",
       "        vertical-align: middle;\n",
       "    }\n",
       "\n",
       "    .dataframe tbody tr th {\n",
       "        vertical-align: top;\n",
       "    }\n",
       "\n",
       "    .dataframe thead th {\n",
       "        text-align: right;\n",
       "    }\n",
       "</style>\n",
       "<table border=\"1\" class=\"dataframe\">\n",
       "  <thead>\n",
       "    <tr style=\"text-align: right;\">\n",
       "      <th></th>\n",
       "      <th>Id</th>\n",
       "      <th>CustomerId</th>\n",
       "      <th>OrderDate</th>\n",
       "      <th>RequiredDate</th>\n",
       "      <th>ShippedDate</th>\n",
       "      <th>ShipVia</th>\n",
       "      <th>OrderId</th>\n",
       "      <th>ProductId</th>\n",
       "      <th>UnitPrice</th>\n",
       "      <th>Quantity</th>\n",
       "      <th>Discount</th>\n",
       "      <th>OrderTotal</th>\n",
       "      <th>leship</th>\n",
       "    </tr>\n",
       "  </thead>\n",
       "  <tbody>\n",
       "    <tr>\n",
       "      <th>0</th>\n",
       "      <td>10248</td>\n",
       "      <td>VINET</td>\n",
       "      <td>2012-07-04</td>\n",
       "      <td>2012-08-01</td>\n",
       "      <td>2012-07-16</td>\n",
       "      <td>3</td>\n",
       "      <td>10248</td>\n",
       "      <td>72</td>\n",
       "      <td>58.6</td>\n",
       "      <td>27</td>\n",
       "      <td>0.0</td>\n",
       "      <td>440.00</td>\n",
       "      <td>-16 days</td>\n",
       "    </tr>\n",
       "    <tr>\n",
       "      <th>1</th>\n",
       "      <td>10249</td>\n",
       "      <td>TOMSP</td>\n",
       "      <td>2012-07-05</td>\n",
       "      <td>2012-08-16</td>\n",
       "      <td>2012-07-10</td>\n",
       "      <td>1</td>\n",
       "      <td>10249</td>\n",
       "      <td>51</td>\n",
       "      <td>61.0</td>\n",
       "      <td>49</td>\n",
       "      <td>0.0</td>\n",
       "      <td>1863.40</td>\n",
       "      <td>-37 days</td>\n",
       "    </tr>\n",
       "    <tr>\n",
       "      <th>2</th>\n",
       "      <td>10250</td>\n",
       "      <td>HANAR</td>\n",
       "      <td>2012-07-08</td>\n",
       "      <td>2012-08-05</td>\n",
       "      <td>2012-07-12</td>\n",
       "      <td>2</td>\n",
       "      <td>10250</td>\n",
       "      <td>65</td>\n",
       "      <td>66.9</td>\n",
       "      <td>60</td>\n",
       "      <td>0.3</td>\n",
       "      <td>1552.60</td>\n",
       "      <td>-24 days</td>\n",
       "    </tr>\n",
       "    <tr>\n",
       "      <th>3</th>\n",
       "      <td>10251</td>\n",
       "      <td>VICTE</td>\n",
       "      <td>2012-07-08</td>\n",
       "      <td>2012-08-05</td>\n",
       "      <td>2012-07-15</td>\n",
       "      <td>1</td>\n",
       "      <td>10251</td>\n",
       "      <td>65</td>\n",
       "      <td>49.2</td>\n",
       "      <td>41</td>\n",
       "      <td>0.1</td>\n",
       "      <td>654.06</td>\n",
       "      <td>-21 days</td>\n",
       "    </tr>\n",
       "    <tr>\n",
       "      <th>4</th>\n",
       "      <td>10252</td>\n",
       "      <td>SUPRD</td>\n",
       "      <td>2012-07-09</td>\n",
       "      <td>2012-08-06</td>\n",
       "      <td>2012-07-11</td>\n",
       "      <td>2</td>\n",
       "      <td>10252</td>\n",
       "      <td>60</td>\n",
       "      <td>94.0</td>\n",
       "      <td>105</td>\n",
       "      <td>0.1</td>\n",
       "      <td>3597.90</td>\n",
       "      <td>-26 days</td>\n",
       "    </tr>\n",
       "  </tbody>\n",
       "</table>\n",
       "</div>"
      ],
      "text/plain": [
       "      Id CustomerId   OrderDate RequiredDate ShippedDate  ShipVia  OrderId  \\\n",
       "0  10248      VINET  2012-07-04   2012-08-01  2012-07-16        3    10248   \n",
       "1  10249      TOMSP  2012-07-05   2012-08-16  2012-07-10        1    10249   \n",
       "2  10250      HANAR  2012-07-08   2012-08-05  2012-07-12        2    10250   \n",
       "3  10251      VICTE  2012-07-08   2012-08-05  2012-07-15        1    10251   \n",
       "4  10252      SUPRD  2012-07-09   2012-08-06  2012-07-11        2    10252   \n",
       "\n",
       "   ProductId  UnitPrice  Quantity  Discount  OrderTotal   leship  \n",
       "0         72       58.6        27       0.0      440.00 -16 days  \n",
       "1         51       61.0        49       0.0     1863.40 -37 days  \n",
       "2         65       66.9        60       0.3     1552.60 -24 days  \n",
       "3         65       49.2        41       0.1      654.06 -21 days  \n",
       "4         60       94.0       105       0.1     3597.90 -26 days  "
      ]
     },
     "execution_count": 229,
     "metadata": {},
     "output_type": "execute_result"
    }
   ],
   "source": [
    "ordersl.head()"
   ]
  },
  {
   "cell_type": "code",
   "execution_count": 230,
   "metadata": {},
   "outputs": [
    {
     "data": {
      "text/plain": [
       "Id              0\n",
       "CustomerId      0\n",
       "OrderDate       0\n",
       "RequiredDate    0\n",
       "ShippedDate     0\n",
       "ShipVia         0\n",
       "OrderId         0\n",
       "ProductId       0\n",
       "UnitPrice       0\n",
       "Quantity        0\n",
       "Discount        0\n",
       "OrderTotal      0\n",
       "leship          0\n",
       "dtype: int64"
      ]
     },
     "execution_count": 230,
     "metadata": {},
     "output_type": "execute_result"
    }
   ],
   "source": [
    "ordersl.isna().sum() #checking for missing value"
   ]
  },
  {
   "cell_type": "code",
   "execution_count": 226,
   "metadata": {},
   "outputs": [],
   "source": [
    "ordersl.dropna(inplace=True) # drop missing value"
   ]
  },
  {
   "cell_type": "code",
   "execution_count": 287,
   "metadata": {},
   "outputs": [
    {
     "data": {
      "text/html": [
       "<div>\n",
       "<style scoped>\n",
       "    .dataframe tbody tr th:only-of-type {\n",
       "        vertical-align: middle;\n",
       "    }\n",
       "\n",
       "    .dataframe tbody tr th {\n",
       "        vertical-align: top;\n",
       "    }\n",
       "\n",
       "    .dataframe thead th {\n",
       "        text-align: right;\n",
       "    }\n",
       "</style>\n",
       "<table border=\"1\" class=\"dataframe\">\n",
       "  <thead>\n",
       "    <tr style=\"text-align: right;\">\n",
       "      <th></th>\n",
       "      <th>Id</th>\n",
       "      <th>CustomerId</th>\n",
       "      <th>OrderDate</th>\n",
       "      <th>RequiredDate</th>\n",
       "      <th>ShippedDate</th>\n",
       "      <th>ShipVia</th>\n",
       "      <th>OrderId</th>\n",
       "      <th>ProductId</th>\n",
       "      <th>UnitPrice</th>\n",
       "      <th>Quantity</th>\n",
       "      <th>Discount</th>\n",
       "      <th>OrderTotal</th>\n",
       "      <th>leship</th>\n",
       "      <th>Late</th>\n",
       "      <th>OrderYear</th>\n",
       "    </tr>\n",
       "  </thead>\n",
       "  <tbody>\n",
       "    <tr>\n",
       "      <th>0</th>\n",
       "      <td>10248</td>\n",
       "      <td>VINET</td>\n",
       "      <td>2012-07-04</td>\n",
       "      <td>2012-08-01</td>\n",
       "      <td>2012-07-16</td>\n",
       "      <td>3</td>\n",
       "      <td>10248</td>\n",
       "      <td>72</td>\n",
       "      <td>58.6</td>\n",
       "      <td>27</td>\n",
       "      <td>0.0</td>\n",
       "      <td>440.00</td>\n",
       "      <td>-16 days</td>\n",
       "      <td>no</td>\n",
       "      <td>2012</td>\n",
       "    </tr>\n",
       "    <tr>\n",
       "      <th>1</th>\n",
       "      <td>10249</td>\n",
       "      <td>TOMSP</td>\n",
       "      <td>2012-07-05</td>\n",
       "      <td>2012-08-16</td>\n",
       "      <td>2012-07-10</td>\n",
       "      <td>1</td>\n",
       "      <td>10249</td>\n",
       "      <td>51</td>\n",
       "      <td>61.0</td>\n",
       "      <td>49</td>\n",
       "      <td>0.0</td>\n",
       "      <td>1863.40</td>\n",
       "      <td>-37 days</td>\n",
       "      <td>no</td>\n",
       "      <td>2012</td>\n",
       "    </tr>\n",
       "    <tr>\n",
       "      <th>2</th>\n",
       "      <td>10250</td>\n",
       "      <td>HANAR</td>\n",
       "      <td>2012-07-08</td>\n",
       "      <td>2012-08-05</td>\n",
       "      <td>2012-07-12</td>\n",
       "      <td>2</td>\n",
       "      <td>10250</td>\n",
       "      <td>65</td>\n",
       "      <td>66.9</td>\n",
       "      <td>60</td>\n",
       "      <td>0.3</td>\n",
       "      <td>1552.60</td>\n",
       "      <td>-24 days</td>\n",
       "      <td>no</td>\n",
       "      <td>2012</td>\n",
       "    </tr>\n",
       "    <tr>\n",
       "      <th>3</th>\n",
       "      <td>10251</td>\n",
       "      <td>VICTE</td>\n",
       "      <td>2012-07-08</td>\n",
       "      <td>2012-08-05</td>\n",
       "      <td>2012-07-15</td>\n",
       "      <td>1</td>\n",
       "      <td>10251</td>\n",
       "      <td>65</td>\n",
       "      <td>49.2</td>\n",
       "      <td>41</td>\n",
       "      <td>0.1</td>\n",
       "      <td>654.06</td>\n",
       "      <td>-21 days</td>\n",
       "      <td>no</td>\n",
       "      <td>2012</td>\n",
       "    </tr>\n",
       "    <tr>\n",
       "      <th>4</th>\n",
       "      <td>10252</td>\n",
       "      <td>SUPRD</td>\n",
       "      <td>2012-07-09</td>\n",
       "      <td>2012-08-06</td>\n",
       "      <td>2012-07-11</td>\n",
       "      <td>2</td>\n",
       "      <td>10252</td>\n",
       "      <td>60</td>\n",
       "      <td>94.0</td>\n",
       "      <td>105</td>\n",
       "      <td>0.1</td>\n",
       "      <td>3597.90</td>\n",
       "      <td>-26 days</td>\n",
       "      <td>no</td>\n",
       "      <td>2012</td>\n",
       "    </tr>\n",
       "  </tbody>\n",
       "</table>\n",
       "</div>"
      ],
      "text/plain": [
       "      Id CustomerId  OrderDate RequiredDate ShippedDate  ShipVia  OrderId  \\\n",
       "0  10248      VINET 2012-07-04   2012-08-01  2012-07-16        3    10248   \n",
       "1  10249      TOMSP 2012-07-05   2012-08-16  2012-07-10        1    10249   \n",
       "2  10250      HANAR 2012-07-08   2012-08-05  2012-07-12        2    10250   \n",
       "3  10251      VICTE 2012-07-08   2012-08-05  2012-07-15        1    10251   \n",
       "4  10252      SUPRD 2012-07-09   2012-08-06  2012-07-11        2    10252   \n",
       "\n",
       "   ProductId  UnitPrice  Quantity  Discount  OrderTotal   leship Late  \\\n",
       "0         72       58.6        27       0.0      440.00 -16 days   no   \n",
       "1         51       61.0        49       0.0     1863.40 -37 days   no   \n",
       "2         65       66.9        60       0.3     1552.60 -24 days   no   \n",
       "3         65       49.2        41       0.1      654.06 -21 days   no   \n",
       "4         60       94.0       105       0.1     3597.90 -26 days   no   \n",
       "\n",
       "   OrderYear  \n",
       "0       2012  \n",
       "1       2012  \n",
       "2       2012  \n",
       "3       2012  \n",
       "4       2012  "
      ]
     },
     "execution_count": 287,
     "metadata": {},
     "output_type": "execute_result"
    }
   ],
   "source": [
    "#create late shipping by subtracting shipping date from required date\n",
    "ordersl['leship']= pd.to_datetime(ordersl['ShippedDate'])-pd.to_datetime(ordersl['RequiredDate']) \n",
    "ordersl.head()"
   ]
  },
  {
   "cell_type": "code",
   "execution_count": 285,
   "metadata": {},
   "outputs": [],
   "source": [
    "# had_late = ordersl.loc[ordersl['leship'].dt.days > 0].CustomerId.unique()\n",
    "# had_late"
   ]
  },
  {
   "cell_type": "code",
   "execution_count": 288,
   "metadata": {},
   "outputs": [],
   "source": [
    "# to change the column to numbers of days (to change it from date format to number format)\n",
    "ordersl['leship']= ordersl.leship.dt.days"
   ]
  },
  {
   "cell_type": "code",
   "execution_count": 236,
   "metadata": {},
   "outputs": [],
   "source": [
    "# late column-if it is shipped after the required date(>0) it is late \n",
    "ordersl['Late']=['yes' if x > 0 else 'no' for x in ordersl['leship'] ]"
   ]
  },
  {
   "cell_type": "code",
   "execution_count": 237,
   "metadata": {},
   "outputs": [
    {
     "data": {
      "text/html": [
       "<div>\n",
       "<style scoped>\n",
       "    .dataframe tbody tr th:only-of-type {\n",
       "        vertical-align: middle;\n",
       "    }\n",
       "\n",
       "    .dataframe tbody tr th {\n",
       "        vertical-align: top;\n",
       "    }\n",
       "\n",
       "    .dataframe thead th {\n",
       "        text-align: right;\n",
       "    }\n",
       "</style>\n",
       "<table border=\"1\" class=\"dataframe\">\n",
       "  <thead>\n",
       "    <tr style=\"text-align: right;\">\n",
       "      <th></th>\n",
       "      <th>Id</th>\n",
       "      <th>CustomerId</th>\n",
       "      <th>OrderDate</th>\n",
       "      <th>RequiredDate</th>\n",
       "      <th>ShippedDate</th>\n",
       "      <th>ShipVia</th>\n",
       "      <th>OrderId</th>\n",
       "      <th>ProductId</th>\n",
       "      <th>UnitPrice</th>\n",
       "      <th>Quantity</th>\n",
       "      <th>Discount</th>\n",
       "      <th>OrderTotal</th>\n",
       "      <th>leship</th>\n",
       "      <th>Late</th>\n",
       "    </tr>\n",
       "  </thead>\n",
       "  <tbody>\n",
       "    <tr>\n",
       "      <th>0</th>\n",
       "      <td>10248</td>\n",
       "      <td>VINET</td>\n",
       "      <td>2012-07-04</td>\n",
       "      <td>2012-08-01</td>\n",
       "      <td>2012-07-16</td>\n",
       "      <td>3</td>\n",
       "      <td>10248</td>\n",
       "      <td>72</td>\n",
       "      <td>58.6</td>\n",
       "      <td>27</td>\n",
       "      <td>0.0</td>\n",
       "      <td>440.00</td>\n",
       "      <td>-16</td>\n",
       "      <td>no</td>\n",
       "    </tr>\n",
       "    <tr>\n",
       "      <th>1</th>\n",
       "      <td>10249</td>\n",
       "      <td>TOMSP</td>\n",
       "      <td>2012-07-05</td>\n",
       "      <td>2012-08-16</td>\n",
       "      <td>2012-07-10</td>\n",
       "      <td>1</td>\n",
       "      <td>10249</td>\n",
       "      <td>51</td>\n",
       "      <td>61.0</td>\n",
       "      <td>49</td>\n",
       "      <td>0.0</td>\n",
       "      <td>1863.40</td>\n",
       "      <td>-37</td>\n",
       "      <td>no</td>\n",
       "    </tr>\n",
       "    <tr>\n",
       "      <th>2</th>\n",
       "      <td>10250</td>\n",
       "      <td>HANAR</td>\n",
       "      <td>2012-07-08</td>\n",
       "      <td>2012-08-05</td>\n",
       "      <td>2012-07-12</td>\n",
       "      <td>2</td>\n",
       "      <td>10250</td>\n",
       "      <td>65</td>\n",
       "      <td>66.9</td>\n",
       "      <td>60</td>\n",
       "      <td>0.3</td>\n",
       "      <td>1552.60</td>\n",
       "      <td>-24</td>\n",
       "      <td>no</td>\n",
       "    </tr>\n",
       "    <tr>\n",
       "      <th>3</th>\n",
       "      <td>10251</td>\n",
       "      <td>VICTE</td>\n",
       "      <td>2012-07-08</td>\n",
       "      <td>2012-08-05</td>\n",
       "      <td>2012-07-15</td>\n",
       "      <td>1</td>\n",
       "      <td>10251</td>\n",
       "      <td>65</td>\n",
       "      <td>49.2</td>\n",
       "      <td>41</td>\n",
       "      <td>0.1</td>\n",
       "      <td>654.06</td>\n",
       "      <td>-21</td>\n",
       "      <td>no</td>\n",
       "    </tr>\n",
       "    <tr>\n",
       "      <th>4</th>\n",
       "      <td>10252</td>\n",
       "      <td>SUPRD</td>\n",
       "      <td>2012-07-09</td>\n",
       "      <td>2012-08-06</td>\n",
       "      <td>2012-07-11</td>\n",
       "      <td>2</td>\n",
       "      <td>10252</td>\n",
       "      <td>60</td>\n",
       "      <td>94.0</td>\n",
       "      <td>105</td>\n",
       "      <td>0.1</td>\n",
       "      <td>3597.90</td>\n",
       "      <td>-26</td>\n",
       "      <td>no</td>\n",
       "    </tr>\n",
       "  </tbody>\n",
       "</table>\n",
       "</div>"
      ],
      "text/plain": [
       "      Id CustomerId   OrderDate RequiredDate ShippedDate  ShipVia  OrderId  \\\n",
       "0  10248      VINET  2012-07-04   2012-08-01  2012-07-16        3    10248   \n",
       "1  10249      TOMSP  2012-07-05   2012-08-16  2012-07-10        1    10249   \n",
       "2  10250      HANAR  2012-07-08   2012-08-05  2012-07-12        2    10250   \n",
       "3  10251      VICTE  2012-07-08   2012-08-05  2012-07-15        1    10251   \n",
       "4  10252      SUPRD  2012-07-09   2012-08-06  2012-07-11        2    10252   \n",
       "\n",
       "   ProductId  UnitPrice  Quantity  Discount  OrderTotal  leship Late  \n",
       "0         72       58.6        27       0.0      440.00     -16   no  \n",
       "1         51       61.0        49       0.0     1863.40     -37   no  \n",
       "2         65       66.9        60       0.3     1552.60     -24   no  \n",
       "3         65       49.2        41       0.1      654.06     -21   no  \n",
       "4         60       94.0       105       0.1     3597.90     -26   no  "
      ]
     },
     "execution_count": 237,
     "metadata": {},
     "output_type": "execute_result"
    }
   ],
   "source": [
    "ordersl.head()"
   ]
  },
  {
   "cell_type": "code",
   "execution_count": 219,
   "metadata": {},
   "outputs": [],
   "source": [
    "#ordersl['HadLate']= ordersl.CustomerId.isin(had_late)"
   ]
  },
  {
   "cell_type": "code",
   "execution_count": 242,
   "metadata": {},
   "outputs": [],
   "source": [
    "early_orders =ordersl.loc[ordersl.Late=='no']['OrderTotal']\n",
    "late_orders=ordersl.loc[ordersl.Late=='yes']['OrderTotal']"
   ]
  },
  {
   "cell_type": "code",
   "execution_count": 244,
   "metadata": {},
   "outputs": [
    {
     "data": {
      "text/plain": [
       "1798.259864864865"
      ]
     },
     "execution_count": 244,
     "metadata": {},
     "output_type": "execute_result"
    }
   ],
   "source": [
    "late_orders.mean()"
   ]
  },
  {
   "cell_type": "code",
   "execution_count": 245,
   "metadata": {},
   "outputs": [
    {
     "data": {
      "text/plain": [
       "1519.8445518134715"
      ]
     },
     "execution_count": 245,
     "metadata": {},
     "output_type": "execute_result"
    }
   ],
   "source": [
    "early_orders.mean()"
   ]
  },
  {
   "cell_type": "code",
   "execution_count": 251,
   "metadata": {},
   "outputs": [
    {
     "data": {
      "text/plain": [
       "4.573547589616811"
      ]
     },
     "execution_count": 251,
     "metadata": {},
     "output_type": "execute_result"
    }
   ],
   "source": [
    "late_delivery_percent = len(late_orders)/len(ordersl)*100\n",
    "late_delivery_percent"
   ]
  },
  {
   "cell_type": "markdown",
   "metadata": {},
   "source": [
    "## Checking for Normality"
   ]
  },
  {
   "cell_type": "markdown",
   "metadata": {},
   "source": [
    "##### H0: Distribution is normal\n",
    "##### HA: Distribution is not normal"
   ]
  },
  {
   "cell_type": "code",
   "execution_count": 128,
   "metadata": {},
   "outputs": [
    {
     "data": {
      "text/plain": [
       "(0.5080080032348633, 2.129973665773722e-43)"
      ]
     },
     "execution_count": 128,
     "metadata": {},
     "output_type": "execute_result"
    }
   ],
   "source": [
    "stats.shapiro(early_orders)"
   ]
  },
  {
   "cell_type": "code",
   "execution_count": 129,
   "metadata": {},
   "outputs": [
    {
     "data": {
      "text/plain": [
       "(0.4361311197280884, 0.0)"
      ]
     },
     "execution_count": 129,
     "metadata": {},
     "output_type": "execute_result"
    }
   ],
   "source": [
    "stats.shapiro(late_orders)"
   ]
  },
  {
   "cell_type": "markdown",
   "metadata": {},
   "source": [
    "##### with p value less than .05 we reject the null & conclude that the distribution is not normal"
   ]
  },
  {
   "cell_type": "markdown",
   "metadata": {},
   "source": [
    "## Checking for equal variance"
   ]
  },
  {
   "cell_type": "markdown",
   "metadata": {},
   "source": [
    "##### H0: Early and late delivery groups have the same variances.\n",
    "##### HA: Early and late delivery groups have different variances."
   ]
  },
  {
   "cell_type": "code",
   "execution_count": 246,
   "metadata": {},
   "outputs": [
    {
     "data": {
      "text/plain": [
       "LeveneResult(statistic=0.6872218692043743, pvalue=0.4073560584432159)"
      ]
     },
     "execution_count": 246,
     "metadata": {},
     "output_type": "execute_result"
    }
   ],
   "source": [
    "stats.levene(late_orders, early_orders)"
   ]
  },
  {
   "cell_type": "markdown",
   "metadata": {},
   "source": [
    "##### with p value greater than .05 we fail to reject the null. The two groups have equal variances."
   ]
  },
  {
   "cell_type": "code",
   "execution_count": 253,
   "metadata": {},
   "outputs": [
    {
     "name": "stderr",
     "output_type": "stream",
     "text": [
      "C:\\Users\\Omega\\Anaconda3\\envs\\learn-env\\lib\\site-packages\\scipy\\stats\\stats.py:1713: FutureWarning: Using a non-tuple sequence for multidimensional indexing is deprecated; use `arr[tuple(seq)]` instead of `arr[seq]`. In the future this will be interpreted as an array index, `arr[np.array(seq)]`, which will result either in an error or a different result.\n",
      "  return np.add.reduce(sorted[indexer] * weights, axis=axis) / sumval\n"
     ]
    },
    {
     "data": {
      "image/png": "[encoded data removed]",
      "text/plain": [
       "<Figure size 720x432 with 1 Axes>"
      ]
     },
     "metadata": {
      "needs_background": "light"
     },
     "output_type": "display_data"
    }
   ],
   "source": [
    "plt.figure(figsize=(10,6))\n",
    "sns.distplot(late_orders,label='late deliveries')\n",
    "sns.distplot(early_orders,label='early deliveries')\n",
    "plt.legend()\n",
    "plt.show()"
   ]
  },
  {
   "cell_type": "code",
   "execution_count": 254,
   "metadata": {},
   "outputs": [
    {
     "data": {
      "text/plain": [
       "Ttest_indResult(statistic=-0.8921001454084001, pvalue=0.37260517618360034)"
      ]
     },
     "execution_count": 254,
     "metadata": {},
     "output_type": "execute_result"
    }
   ],
   "source": [
    "# we use t test because of equal variance\n",
    "stats.ttest_ind(early_orders,late_orders,equal_var=True)\n"
   ]
  },
  {
   "cell_type": "code",
   "execution_count": 138,
   "metadata": {},
   "outputs": [
    {
     "data": {
      "image/png": "[encoded data removed]",
      "text/plain": [
       "<Figure size 432x288 with 1 Axes>"
      ]
     },
     "metadata": {
      "needs_background": "light"
     },
     "output_type": "display_data"
    }
   ],
   "source": [
    "# monte carlo simulation to calculate p value\n",
    "mean_diff = early_orders.mean()-late_orders.mean()\n",
    "sample_diffs = []\n",
    "counter = 0\n",
    "for i in range(10000):\n",
    "    sample1 = ordersj.sample(replace=False, n=len(disc))\n",
    "    sample2 = ordersj.drop(sample1.index,axis=0)\n",
    "    sample_diff = sample1['OrderValue'].mean() - sample2['OrderValue'].mean()\n",
    "    sample_diffs.append(sample_diff)\n",
    "    if sample_diff > mean_diff:\n",
    "        counter += 1\n",
    "plt.hist(sample_diffs)\n",
    "plt.axvline(mean_diff,color = 'k')\n",
    "plt.title(f'p value :{np.round(counter/10000,3)}')\n",
    "plt.show()"
   ]
  },
  {
   "cell_type": "markdown",
   "metadata": {},
   "source": [
    "According to Monte Carlo test with p value less than .05 we reject the null. *this contradicts with the t test result*"
   ]
  },
  {
   "cell_type": "code",
   "execution_count": 258,
   "metadata": {},
   "outputs": [
    {
     "data": {
      "text/plain": [
       "Text(0.5, 1.0, 'Early v.s. Late Average Total Order')"
      ]
     },
     "execution_count": 258,
     "metadata": {},
     "output_type": "execute_result"
    },
    {
     "data": {
      "image/png": "[encoded data removed]",
      "text/plain": [
       "<Figure size 432x288 with 1 Axes>"
      ]
     },
     "metadata": {
      "needs_background": "light"
     },
     "output_type": "display_data"
    }
   ],
   "source": [
    "X = ['Late Deliveries', 'Early Deliveries']\n",
    "y = [late_orders.mean(),\n",
    "     early_orders.mean()]\n",
    "plt.bar(X,y, color=('grey'))\n",
    "plt.text(s=round(y[1],2), x=1, y=750, color=\"w\", horizontalalignment='center',size=18)\n",
    "plt.text(s=round(y[0],2), x=0, y=750, color=\"w\", horizontalalignment='center',size=18)\n",
    "plt.ylabel('Average Total Value')\n",
    "plt.title('Early v.s. Late Average Total Order')\n"
   ]
  },
  {
   "cell_type": "markdown",
   "metadata": {},
   "source": [
    " ##### With  p value greater than 0.05 , we fail to reject the null hypothesis & conclude that  late deliveries has no effect on total value of order. * we have to consider looking at the customers total value after they have late delivery *"
   ]
  },
  {
   "cell_type": "markdown",
   "metadata": {},
   "source": [
    "# Is there a statistically significant difference in performance of shipping companies?\n"
   ]
  },
  {
   "cell_type": "code",
   "execution_count": 177,
   "metadata": {},
   "outputs": [
    {
     "data": {
      "text/html": [
       "<div>\n",
       "<style scoped>\n",
       "    .dataframe tbody tr th:only-of-type {\n",
       "        vertical-align: middle;\n",
       "    }\n",
       "\n",
       "    .dataframe tbody tr th {\n",
       "        vertical-align: top;\n",
       "    }\n",
       "\n",
       "    .dataframe thead th {\n",
       "        text-align: right;\n",
       "    }\n",
       "</style>\n",
       "<table border=\"1\" class=\"dataframe\">\n",
       "  <thead>\n",
       "    <tr style=\"text-align: right;\">\n",
       "      <th></th>\n",
       "      <th>Id</th>\n",
       "      <th>CustomerId</th>\n",
       "      <th>OrderDate</th>\n",
       "      <th>RequiredDate</th>\n",
       "      <th>ShippedDate</th>\n",
       "      <th>ShipVia</th>\n",
       "      <th>OrderId</th>\n",
       "      <th>ProductId</th>\n",
       "      <th>UnitPrice</th>\n",
       "      <th>Quantity</th>\n",
       "      <th>Discount</th>\n",
       "      <th>OrderTotal</th>\n",
       "      <th>ProcessingTime</th>\n",
       "    </tr>\n",
       "  </thead>\n",
       "  <tbody>\n",
       "    <tr>\n",
       "      <th>0</th>\n",
       "      <td>10248</td>\n",
       "      <td>VINET</td>\n",
       "      <td>2012-07-04</td>\n",
       "      <td>2012-08-01</td>\n",
       "      <td>2012-07-16</td>\n",
       "      <td>3</td>\n",
       "      <td>10248</td>\n",
       "      <td>72</td>\n",
       "      <td>58.6</td>\n",
       "      <td>27</td>\n",
       "      <td>0.0</td>\n",
       "      <td>440.00</td>\n",
       "      <td>12.0</td>\n",
       "    </tr>\n",
       "    <tr>\n",
       "      <th>1</th>\n",
       "      <td>10249</td>\n",
       "      <td>TOMSP</td>\n",
       "      <td>2012-07-05</td>\n",
       "      <td>2012-08-16</td>\n",
       "      <td>2012-07-10</td>\n",
       "      <td>1</td>\n",
       "      <td>10249</td>\n",
       "      <td>51</td>\n",
       "      <td>61.0</td>\n",
       "      <td>49</td>\n",
       "      <td>0.0</td>\n",
       "      <td>1863.40</td>\n",
       "      <td>5.0</td>\n",
       "    </tr>\n",
       "    <tr>\n",
       "      <th>2</th>\n",
       "      <td>10250</td>\n",
       "      <td>HANAR</td>\n",
       "      <td>2012-07-08</td>\n",
       "      <td>2012-08-05</td>\n",
       "      <td>2012-07-12</td>\n",
       "      <td>2</td>\n",
       "      <td>10250</td>\n",
       "      <td>65</td>\n",
       "      <td>66.9</td>\n",
       "      <td>60</td>\n",
       "      <td>0.3</td>\n",
       "      <td>1552.60</td>\n",
       "      <td>4.0</td>\n",
       "    </tr>\n",
       "    <tr>\n",
       "      <th>3</th>\n",
       "      <td>10251</td>\n",
       "      <td>VICTE</td>\n",
       "      <td>2012-07-08</td>\n",
       "      <td>2012-08-05</td>\n",
       "      <td>2012-07-15</td>\n",
       "      <td>1</td>\n",
       "      <td>10251</td>\n",
       "      <td>65</td>\n",
       "      <td>49.2</td>\n",
       "      <td>41</td>\n",
       "      <td>0.1</td>\n",
       "      <td>654.06</td>\n",
       "      <td>7.0</td>\n",
       "    </tr>\n",
       "    <tr>\n",
       "      <th>4</th>\n",
       "      <td>10252</td>\n",
       "      <td>SUPRD</td>\n",
       "      <td>2012-07-09</td>\n",
       "      <td>2012-08-06</td>\n",
       "      <td>2012-07-11</td>\n",
       "      <td>2</td>\n",
       "      <td>10252</td>\n",
       "      <td>60</td>\n",
       "      <td>94.0</td>\n",
       "      <td>105</td>\n",
       "      <td>0.1</td>\n",
       "      <td>3597.90</td>\n",
       "      <td>2.0</td>\n",
       "    </tr>\n",
       "  </tbody>\n",
       "</table>\n",
       "</div>"
      ],
      "text/plain": [
       "      Id CustomerId   OrderDate RequiredDate ShippedDate  ShipVia  OrderId  \\\n",
       "0  10248      VINET  2012-07-04   2012-08-01  2012-07-16        3    10248   \n",
       "1  10249      TOMSP  2012-07-05   2012-08-16  2012-07-10        1    10249   \n",
       "2  10250      HANAR  2012-07-08   2012-08-05  2012-07-12        2    10250   \n",
       "3  10251      VICTE  2012-07-08   2012-08-05  2012-07-15        1    10251   \n",
       "4  10252      SUPRD  2012-07-09   2012-08-06  2012-07-11        2    10252   \n",
       "\n",
       "   ProductId  UnitPrice  Quantity  Discount  OrderTotal  ProcessingTime  \n",
       "0         72       58.6        27       0.0      440.00            12.0  \n",
       "1         51       61.0        49       0.0     1863.40             5.0  \n",
       "2         65       66.9        60       0.3     1552.60             4.0  \n",
       "3         65       49.2        41       0.1      654.06             7.0  \n",
       "4         60       94.0       105       0.1     3597.90             2.0  "
      ]
     },
     "execution_count": 177,
     "metadata": {},
     "output_type": "execute_result"
    }
   ],
   "source": [
    "ordersl.head()"
   ]
  },
  {
   "cell_type": "code",
   "execution_count": 185,
   "metadata": {},
   "outputs": [
    {
     "data": {
      "text/plain": [
       "Id                 0\n",
       "CustomerId         0\n",
       "OrderDate          0\n",
       "RequiredDate       0\n",
       "ShippedDate       21\n",
       "ShipVia            0\n",
       "OrderId            0\n",
       "ProductId          0\n",
       "UnitPrice          0\n",
       "Quantity           0\n",
       "Discount           0\n",
       "OrderTotal         0\n",
       "ProcessingTime    21\n",
       "dtype: int64"
      ]
     },
     "execution_count": 185,
     "metadata": {},
     "output_type": "execute_result"
    }
   ],
   "source": [
    "ordersl.isna().sum()"
   ]
  },
  {
   "cell_type": "code",
   "execution_count": 186,
   "metadata": {},
   "outputs": [],
   "source": [
    "ordersl.dropna(inplace=True)"
   ]
  },
  {
   "cell_type": "code",
   "execution_count": 187,
   "metadata": {},
   "outputs": [
    {
     "data": {
      "text/html": [
       "<div>\n",
       "<style scoped>\n",
       "    .dataframe tbody tr th:only-of-type {\n",
       "        vertical-align: middle;\n",
       "    }\n",
       "\n",
       "    .dataframe tbody tr th {\n",
       "        vertical-align: top;\n",
       "    }\n",
       "\n",
       "    .dataframe thead th {\n",
       "        text-align: right;\n",
       "    }\n",
       "</style>\n",
       "<table border=\"1\" class=\"dataframe\">\n",
       "  <thead>\n",
       "    <tr style=\"text-align: right;\">\n",
       "      <th></th>\n",
       "      <th>Id</th>\n",
       "      <th>CustomerId</th>\n",
       "      <th>OrderDate</th>\n",
       "      <th>RequiredDate</th>\n",
       "      <th>ShippedDate</th>\n",
       "      <th>ShipVia</th>\n",
       "      <th>OrderId</th>\n",
       "      <th>ProductId</th>\n",
       "      <th>UnitPrice</th>\n",
       "      <th>Quantity</th>\n",
       "      <th>Discount</th>\n",
       "      <th>OrderTotal</th>\n",
       "      <th>ProcessingTime</th>\n",
       "    </tr>\n",
       "  </thead>\n",
       "  <tbody>\n",
       "    <tr>\n",
       "      <th>0</th>\n",
       "      <td>10248</td>\n",
       "      <td>VINET</td>\n",
       "      <td>2012-07-04</td>\n",
       "      <td>2012-08-01</td>\n",
       "      <td>2012-07-16</td>\n",
       "      <td>3</td>\n",
       "      <td>10248</td>\n",
       "      <td>72</td>\n",
       "      <td>58.6</td>\n",
       "      <td>27</td>\n",
       "      <td>0.0</td>\n",
       "      <td>440.00</td>\n",
       "      <td>12</td>\n",
       "    </tr>\n",
       "    <tr>\n",
       "      <th>1</th>\n",
       "      <td>10249</td>\n",
       "      <td>TOMSP</td>\n",
       "      <td>2012-07-05</td>\n",
       "      <td>2012-08-16</td>\n",
       "      <td>2012-07-10</td>\n",
       "      <td>1</td>\n",
       "      <td>10249</td>\n",
       "      <td>51</td>\n",
       "      <td>61.0</td>\n",
       "      <td>49</td>\n",
       "      <td>0.0</td>\n",
       "      <td>1863.40</td>\n",
       "      <td>5</td>\n",
       "    </tr>\n",
       "    <tr>\n",
       "      <th>2</th>\n",
       "      <td>10250</td>\n",
       "      <td>HANAR</td>\n",
       "      <td>2012-07-08</td>\n",
       "      <td>2012-08-05</td>\n",
       "      <td>2012-07-12</td>\n",
       "      <td>2</td>\n",
       "      <td>10250</td>\n",
       "      <td>65</td>\n",
       "      <td>66.9</td>\n",
       "      <td>60</td>\n",
       "      <td>0.3</td>\n",
       "      <td>1552.60</td>\n",
       "      <td>4</td>\n",
       "    </tr>\n",
       "    <tr>\n",
       "      <th>3</th>\n",
       "      <td>10251</td>\n",
       "      <td>VICTE</td>\n",
       "      <td>2012-07-08</td>\n",
       "      <td>2012-08-05</td>\n",
       "      <td>2012-07-15</td>\n",
       "      <td>1</td>\n",
       "      <td>10251</td>\n",
       "      <td>65</td>\n",
       "      <td>49.2</td>\n",
       "      <td>41</td>\n",
       "      <td>0.1</td>\n",
       "      <td>654.06</td>\n",
       "      <td>7</td>\n",
       "    </tr>\n",
       "    <tr>\n",
       "      <th>4</th>\n",
       "      <td>10252</td>\n",
       "      <td>SUPRD</td>\n",
       "      <td>2012-07-09</td>\n",
       "      <td>2012-08-06</td>\n",
       "      <td>2012-07-11</td>\n",
       "      <td>2</td>\n",
       "      <td>10252</td>\n",
       "      <td>60</td>\n",
       "      <td>94.0</td>\n",
       "      <td>105</td>\n",
       "      <td>0.1</td>\n",
       "      <td>3597.90</td>\n",
       "      <td>2</td>\n",
       "    </tr>\n",
       "  </tbody>\n",
       "</table>\n",
       "</div>"
      ],
      "text/plain": [
       "      Id CustomerId   OrderDate RequiredDate ShippedDate  ShipVia  OrderId  \\\n",
       "0  10248      VINET  2012-07-04   2012-08-01  2012-07-16        3    10248   \n",
       "1  10249      TOMSP  2012-07-05   2012-08-16  2012-07-10        1    10249   \n",
       "2  10250      HANAR  2012-07-08   2012-08-05  2012-07-12        2    10250   \n",
       "3  10251      VICTE  2012-07-08   2012-08-05  2012-07-15        1    10251   \n",
       "4  10252      SUPRD  2012-07-09   2012-08-06  2012-07-11        2    10252   \n",
       "\n",
       "   ProductId  UnitPrice  Quantity  Discount  OrderTotal  ProcessingTime  \n",
       "0         72       58.6        27       0.0      440.00              12  \n",
       "1         51       61.0        49       0.0     1863.40               5  \n",
       "2         65       66.9        60       0.3     1552.60               4  \n",
       "3         65       49.2        41       0.1      654.06               7  \n",
       "4         60       94.0       105       0.1     3597.90               2  "
      ]
     },
     "execution_count": 187,
     "metadata": {},
     "output_type": "execute_result"
    }
   ],
   "source": [
    "ordersl['ProcessingTime']= pd.to_datetime(ordersl['ShippedDate'])-pd.to_datetime(ordersl['OrderDate'])\n",
    "ordersl.ProcessingTime = ordersl.ProcessingTime.dt.days\n",
    "ordersl.head()"
   ]
  },
  {
   "cell_type": "code",
   "execution_count": 277,
   "metadata": {},
   "outputs": [],
   "source": [
    "ordersl['OrderDate'] =pd.to_datetime(ordersl['OrderDate'])\n",
    "ordersl['OrderYear']= ordersl.OrderDate.dt.year"
   ]
  },
  {
   "cell_type": "code",
   "execution_count": 278,
   "metadata": {},
   "outputs": [
    {
     "data": {
      "text/html": [
       "<div>\n",
       "<style scoped>\n",
       "    .dataframe tbody tr th:only-of-type {\n",
       "        vertical-align: middle;\n",
       "    }\n",
       "\n",
       "    .dataframe tbody tr th {\n",
       "        vertical-align: top;\n",
       "    }\n",
       "\n",
       "    .dataframe thead th {\n",
       "        text-align: right;\n",
       "    }\n",
       "</style>\n",
       "<table border=\"1\" class=\"dataframe\">\n",
       "  <thead>\n",
       "    <tr style=\"text-align: right;\">\n",
       "      <th></th>\n",
       "      <th>Id</th>\n",
       "      <th>ShipVia</th>\n",
       "      <th>OrderId</th>\n",
       "      <th>ProductId</th>\n",
       "      <th>UnitPrice</th>\n",
       "      <th>Quantity</th>\n",
       "      <th>Discount</th>\n",
       "      <th>OrderTotal</th>\n",
       "      <th>leship</th>\n",
       "    </tr>\n",
       "    <tr>\n",
       "      <th>OrderYear</th>\n",
       "      <th></th>\n",
       "      <th></th>\n",
       "      <th></th>\n",
       "      <th></th>\n",
       "      <th></th>\n",
       "      <th></th>\n",
       "      <th></th>\n",
       "      <th></th>\n",
       "      <th></th>\n",
       "    </tr>\n",
       "  </thead>\n",
       "  <tbody>\n",
       "    <tr>\n",
       "      <th>2012</th>\n",
       "      <td>10323.500000</td>\n",
       "      <td>2.131579</td>\n",
       "      <td>10323.500000</td>\n",
       "      <td>57.625000</td>\n",
       "      <td>61.909211</td>\n",
       "      <td>63.032895</td>\n",
       "      <td>0.141447</td>\n",
       "      <td>1368.973487</td>\n",
       "      <td>-19.618421</td>\n",
       "    </tr>\n",
       "    <tr>\n",
       "      <th>2013</th>\n",
       "      <td>10603.500000</td>\n",
       "      <td>1.973039</td>\n",
       "      <td>10603.500000</td>\n",
       "      <td>55.825980</td>\n",
       "      <td>67.684020</td>\n",
       "      <td>62.473039</td>\n",
       "      <td>0.153922</td>\n",
       "      <td>1512.463734</td>\n",
       "      <td>-18.987745</td>\n",
       "    </tr>\n",
       "    <tr>\n",
       "      <th>2014</th>\n",
       "      <td>10932.763052</td>\n",
       "      <td>1.979920</td>\n",
       "      <td>10932.763052</td>\n",
       "      <td>54.128514</td>\n",
       "      <td>71.874859</td>\n",
       "      <td>60.437751</td>\n",
       "      <td>0.130924</td>\n",
       "      <td>1665.407371</td>\n",
       "      <td>-19.787149</td>\n",
       "    </tr>\n",
       "  </tbody>\n",
       "</table>\n",
       "</div>"
      ],
      "text/plain": [
       "                     Id   ShipVia       OrderId  ProductId  UnitPrice  \\\n",
       "OrderYear                                                               \n",
       "2012       10323.500000  2.131579  10323.500000  57.625000  61.909211   \n",
       "2013       10603.500000  1.973039  10603.500000  55.825980  67.684020   \n",
       "2014       10932.763052  1.979920  10932.763052  54.128514  71.874859   \n",
       "\n",
       "            Quantity  Discount   OrderTotal     leship  \n",
       "OrderYear                                               \n",
       "2012       63.032895  0.141447  1368.973487 -19.618421  \n",
       "2013       62.473039  0.153922  1512.463734 -18.987745  \n",
       "2014       60.437751  0.130924  1665.407371 -19.787149  "
      ]
     },
     "execution_count": 278,
     "metadata": {},
     "output_type": "execute_result"
    }
   ],
   "source": [
    "\n",
    "ordersl.groupby('OrderYear').mean()"
   ]
  },
  {
   "cell_type": "code",
   "execution_count": 188,
   "metadata": {},
   "outputs": [
    {
     "data": {
      "text/html": [
       "<div>\n",
       "<style scoped>\n",
       "    .dataframe tbody tr th:only-of-type {\n",
       "        vertical-align: middle;\n",
       "    }\n",
       "\n",
       "    .dataframe tbody tr th {\n",
       "        vertical-align: top;\n",
       "    }\n",
       "\n",
       "    .dataframe thead th {\n",
       "        text-align: right;\n",
       "    }\n",
       "</style>\n",
       "<table border=\"1\" class=\"dataframe\">\n",
       "  <thead>\n",
       "    <tr style=\"text-align: right;\">\n",
       "      <th></th>\n",
       "      <th>Id</th>\n",
       "      <th>OrderId</th>\n",
       "      <th>ProductId</th>\n",
       "      <th>UnitPrice</th>\n",
       "      <th>Quantity</th>\n",
       "      <th>Discount</th>\n",
       "      <th>OrderTotal</th>\n",
       "      <th>ProcessingTime</th>\n",
       "    </tr>\n",
       "    <tr>\n",
       "      <th>ShipVia</th>\n",
       "      <th></th>\n",
       "      <th></th>\n",
       "      <th></th>\n",
       "      <th></th>\n",
       "      <th></th>\n",
       "      <th></th>\n",
       "      <th></th>\n",
       "      <th></th>\n",
       "    </tr>\n",
       "  </thead>\n",
       "  <tbody>\n",
       "    <tr>\n",
       "      <th>1</th>\n",
       "      <td>10661.106122</td>\n",
       "      <td>10661.106122</td>\n",
       "      <td>56.987755</td>\n",
       "      <td>63.857102</td>\n",
       "      <td>64.204082</td>\n",
       "      <td>0.157347</td>\n",
       "      <td>1413.187929</td>\n",
       "      <td>8.571429</td>\n",
       "    </tr>\n",
       "    <tr>\n",
       "      <th>2</th>\n",
       "      <td>10661.326984</td>\n",
       "      <td>10661.326984</td>\n",
       "      <td>54.326984</td>\n",
       "      <td>72.696762</td>\n",
       "      <td>60.936508</td>\n",
       "      <td>0.141905</td>\n",
       "      <td>1639.936503</td>\n",
       "      <td>9.234921</td>\n",
       "    </tr>\n",
       "    <tr>\n",
       "      <th>3</th>\n",
       "      <td>10632.004016</td>\n",
       "      <td>10632.004016</td>\n",
       "      <td>55.979920</td>\n",
       "      <td>65.773695</td>\n",
       "      <td>61.020080</td>\n",
       "      <td>0.135141</td>\n",
       "      <td>1514.235213</td>\n",
       "      <td>7.473896</td>\n",
       "    </tr>\n",
       "  </tbody>\n",
       "</table>\n",
       "</div>"
      ],
      "text/plain": [
       "                   Id       OrderId  ProductId  UnitPrice   Quantity  \\\n",
       "ShipVia                                                                \n",
       "1        10661.106122  10661.106122  56.987755  63.857102  64.204082   \n",
       "2        10661.326984  10661.326984  54.326984  72.696762  60.936508   \n",
       "3        10632.004016  10632.004016  55.979920  65.773695  61.020080   \n",
       "\n",
       "         Discount   OrderTotal  ProcessingTime  \n",
       "ShipVia                                         \n",
       "1        0.157347  1413.187929        8.571429  \n",
       "2        0.141905  1639.936503        9.234921  \n",
       "3        0.135141  1514.235213        7.473896  "
      ]
     },
     "execution_count": 188,
     "metadata": {},
     "output_type": "execute_result"
    }
   ],
   "source": [
    "ordersl.groupby('ShipVia').mean()"
   ]
  },
  {
   "cell_type": "markdown",
   "metadata": {},
   "source": [
    "Looking the average values it shows that there is a difference in average processing time. To check this that this is not happening by chance we will do multiple comparison using ANOVA."
   ]
  },
  {
   "cell_type": "code",
   "execution_count": 189,
   "metadata": {},
   "outputs": [
    {
     "name": "stdout",
     "output_type": "stream",
     "text": [
      "                  sum_sq     df         F    PR(>F)\n",
      "C(ShipVia)    433.501581    2.0  4.676819  0.009563\n",
      "Residual    37354.696194  806.0       NaN       NaN\n"
     ]
    }
   ],
   "source": [
    "formula = 'ProcessingTime ~ C(ShipVia)'\n",
    "lm = ols(formula, ordersl).fit()\n",
    "table = sm.stats.anova_lm(lm, typ=2)\n",
    "print(table)"
   ]
  },
  {
   "cell_type": "markdown",
   "metadata": {},
   "source": [
    "##### with p value less than .05 we reject the null. There is a significant difference in processing time between the shipping companies. "
   ]
  },
  {
   "cell_type": "markdown",
   "metadata": {},
   "source": [
    "### Which shipping company has the lowest processing time?"
   ]
  },
  {
   "cell_type": "code",
   "execution_count": 190,
   "metadata": {},
   "outputs": [
    {
     "name": "stdout",
     "output_type": "stream",
     "text": [
      "Multiple Comparison of Means - Tukey HSD,FWER=0.05\n",
      "=============================================\n",
      "group1 group2 meandiff  lower   upper  reject\n",
      "---------------------------------------------\n",
      "  1      2     0.6635  -0.6982  2.0252 False \n",
      "  1      3    -1.0975   -2.536  0.3409 False \n",
      "  2      3     -1.761  -3.1165 -0.4055  True \n",
      "---------------------------------------------\n"
     ]
    }
   ],
   "source": [
    "from statsmodels.stats.multicomp import pairwise_tukeyhsd, MultiComparison\n",
    "mod = MultiComparison(ordersl.ProcessingTime, ordersl.ShipVia)\n",
    "print(mod.tukeyhsd())\n"
   ]
  },
  {
   "cell_type": "code",
   "execution_count": 260,
   "metadata": {},
   "outputs": [
    {
     "data": {
      "text/html": [
       "<div>\n",
       "<style scoped>\n",
       "    .dataframe tbody tr th:only-of-type {\n",
       "        vertical-align: middle;\n",
       "    }\n",
       "\n",
       "    .dataframe tbody tr th {\n",
       "        vertical-align: top;\n",
       "    }\n",
       "\n",
       "    .dataframe thead th {\n",
       "        text-align: right;\n",
       "    }\n",
       "</style>\n",
       "<table border=\"1\" class=\"dataframe\">\n",
       "  <thead>\n",
       "    <tr style=\"text-align: right;\">\n",
       "      <th></th>\n",
       "      <th>Id</th>\n",
       "      <th>CompanyName</th>\n",
       "      <th>Phone</th>\n",
       "    </tr>\n",
       "  </thead>\n",
       "  <tbody>\n",
       "    <tr>\n",
       "      <th>0</th>\n",
       "      <td>1</td>\n",
       "      <td>Speedy Express</td>\n",
       "      <td>(503) 555-9831</td>\n",
       "    </tr>\n",
       "    <tr>\n",
       "      <th>1</th>\n",
       "      <td>2</td>\n",
       "      <td>United Package</td>\n",
       "      <td>(503) 555-3199</td>\n",
       "    </tr>\n",
       "    <tr>\n",
       "      <th>2</th>\n",
       "      <td>3</td>\n",
       "      <td>Federal Shipping</td>\n",
       "      <td>(503) 555-9931</td>\n",
       "    </tr>\n",
       "  </tbody>\n",
       "</table>\n",
       "</div>"
      ],
      "text/plain": [
       "   Id       CompanyName           Phone\n",
       "0   1    Speedy Express  (503) 555-9831\n",
       "1   2    United Package  (503) 555-3199\n",
       "2   3  Federal Shipping  (503) 555-9931"
      ]
     },
     "execution_count": 260,
     "metadata": {},
     "output_type": "execute_result"
    }
   ],
   "source": [
    "shippers.head()"
   ]
  },
  {
   "cell_type": "code",
   "execution_count": 262,
   "metadata": {},
   "outputs": [
    {
     "data": {
      "image/png": "[encoded data removed]",
      "text/plain": [
       "<Figure size 432x288 with 1 Axes>"
      ]
     },
     "metadata": {
      "needs_background": "light"
     },
     "output_type": "display_data"
    }
   ],
   "source": [
    "p_time = [8.57,9.24,7.47]\n",
    "shipper = ('Speedy Express','United Package','Federal Shipping')\n",
    "y_pos = np.arange(len(shipper))\n",
    "# Create bars\n",
    "plt.barh(y_pos, p_time, color=('grey'))\n",
    "# Create names on the x-axis\n",
    "plt.yticks(y_pos, shipper)\n",
    "# Show graphic\n",
    "plt.ylabel('Shippers')\n",
    "plt.xlabel('Processing Time')\n",
    "plt.title('Processing Time by Shipper')\n",
    "plt.show()"
   ]
  },
  {
   "cell_type": "markdown",
   "metadata": {},
   "source": [
    "##### Federal Shipping has significantly law procesing time. United package has higher processing time."
   ]
  },
  {
   "cell_type": "markdown",
   "metadata": {},
   "source": [
    "# Does training have an effect on employee performance?"
   ]
  },
  {
   "cell_type": "markdown",
   "metadata": {},
   "source": [
    "To analyze this, we need more info from  the employee table Notes column"
   ]
  },
  {
   "cell_type": "code",
   "execution_count": 74,
   "metadata": {},
   "outputs": [
    {
     "name": "stdout",
     "output_type": "stream",
     "text": [
      "0                                                                                                                                                                                                                                    Education includes a BA in psychology from Colorado State University in 1970.  She also completed 'The Art of the Cold Call.'  Nancy is a member of Toastmasters International.\n",
      "1    Andrew received his BTS commercial in 1974 and a Ph.D. in international marketing from the University of Dallas in 1981.  He is fluent in French and Italian and reads German.  He joined the company as a sales representative, was promoted to sales manager in January 1992 and to vice president of sales in March 1993.  Andrew is a member of the Sales Management Roundtable, the Seattle Chamber of ...\n",
      "2                                                                                                                                                                    Janet has a BS degree in chemistry from Boston College (1984).  She has also completed a certificate program in food retailing management.  Janet was hired as a sales associate in 1991 and promoted to sales representative in February 1992.\n",
      "3                                                                                                                                                                                         Margaret holds a BA in English literature from Concordia College (1958) and an MA from the American Institute of Culinary Arts (1966).  She was assigned to the London office temporarily from July through November 1992.\n",
      "4    Steven Buchanan graduated from St. Andrews University, Scotland, with a BSC degree in 1976.  Upon joining the company as a sales representative in 1992, he spent 6 months in an orientation program at the Seattle office and then returned to his permanent post in London.  He was promoted to sales manager in March 1993.  Mr. Buchanan has completed the courses 'Successful Telemarketing' and 'Inter...\n",
      "5                                                                               Michael is a graduate of Sussex University (MA, economics, 1983) and the University of California at Los Angeles (MBA, marketing, 1986).  He has also taken the courses 'Multi-Cultural Selling' and 'Time Management for the Sales Professional.'  He is fluent in Japanese and can read and write French, Portuguese, and Spanish.\n",
      "6                                                                                                                      Robert King served in the Peace Corps and traveled extensively before completing his degree in English at the University of Michigan in 1992, the year he joined the company.  After completing a course entitled 'Selling in Europe,' he was transferred to the London office in March 1993.\n",
      "7                                                                                                                                                                                                                                                            Laura received a BA in psychology from the University of Washington.  She has also completed a course in business French.  She reads and writes French.\n",
      "8                                                                                                                                                                                                                                                                                                                    Anne has a BA degree in English from St. Lawrence College.  She is fluent in French and German.\n",
      "Name: Notes, dtype: object\n"
     ]
    }
   ],
   "source": [
    "# to increase the display width so that I can see the employee info.\n",
    "pd.options.display.max_colwidth = 400\n",
    "print(employees.Notes)\n"
   ]
  },
  {
   "cell_type": "code",
   "execution_count": 65,
   "metadata": {},
   "outputs": [
    {
     "data": {
      "text/html": [
       "<div>\n",
       "<style scoped>\n",
       "    .dataframe tbody tr th:only-of-type {\n",
       "        vertical-align: middle;\n",
       "    }\n",
       "\n",
       "    .dataframe tbody tr th {\n",
       "        vertical-align: top;\n",
       "    }\n",
       "\n",
       "    .dataframe thead th {\n",
       "        text-align: right;\n",
       "    }\n",
       "</style>\n",
       "<table border=\"1\" class=\"dataframe\">\n",
       "  <thead>\n",
       "    <tr style=\"text-align: right;\">\n",
       "      <th></th>\n",
       "      <th>EmployeeId</th>\n",
       "      <th>UnitPrice</th>\n",
       "      <th>Discount</th>\n",
       "      <th>Quantity</th>\n",
       "    </tr>\n",
       "  </thead>\n",
       "  <tbody>\n",
       "    <tr>\n",
       "      <th>0</th>\n",
       "      <td>5</td>\n",
       "      <td>14.0</td>\n",
       "      <td>0.0</td>\n",
       "      <td>12</td>\n",
       "    </tr>\n",
       "    <tr>\n",
       "      <th>1</th>\n",
       "      <td>5</td>\n",
       "      <td>9.8</td>\n",
       "      <td>0.0</td>\n",
       "      <td>10</td>\n",
       "    </tr>\n",
       "    <tr>\n",
       "      <th>2</th>\n",
       "      <td>5</td>\n",
       "      <td>34.8</td>\n",
       "      <td>0.0</td>\n",
       "      <td>5</td>\n",
       "    </tr>\n",
       "    <tr>\n",
       "      <th>3</th>\n",
       "      <td>6</td>\n",
       "      <td>18.6</td>\n",
       "      <td>0.0</td>\n",
       "      <td>9</td>\n",
       "    </tr>\n",
       "    <tr>\n",
       "      <th>4</th>\n",
       "      <td>6</td>\n",
       "      <td>42.4</td>\n",
       "      <td>0.0</td>\n",
       "      <td>40</td>\n",
       "    </tr>\n",
       "  </tbody>\n",
       "</table>\n",
       "</div>"
      ],
      "text/plain": [
       "   EmployeeId  UnitPrice  Discount  Quantity\n",
       "0           5       14.0       0.0        12\n",
       "1           5        9.8       0.0        10\n",
       "2           5       34.8       0.0         5\n",
       "3           6       18.6       0.0         9\n",
       "4           6       42.4       0.0        40"
      ]
     },
     "execution_count": 65,
     "metadata": {},
     "output_type": "execute_result"
    }
   ],
   "source": [
    "# joining the employee & Order table.\n",
    "emp_invoices = pd.read_sql('''SELECT  o.EmployeeId,od.UnitPrice ,od.Discount,od.Quantity\n",
    "                            FROM OrderDetail od\n",
    "                            JOIN [Order] o ON od.OrderId = o.Id\n",
    "                            JOIN Employee e ON o.EmployeeId = e.Id\n",
    "                           \n",
    "                    \n",
    "                    ''', conn)\n",
    "emp_invoices.head()"
   ]
  },
  {
   "cell_type": "code",
   "execution_count": 66,
   "metadata": {},
   "outputs": [],
   "source": [
    "emp_invoices['totalinv']= emp_invoices.UnitPrice * (1 - emp_invoices.Discount) * emp_invoices.Quantity"
   ]
  },
  {
   "cell_type": "code",
   "execution_count": 67,
   "metadata": {},
   "outputs": [
    {
     "data": {
      "text/html": [
       "<div>\n",
       "<style scoped>\n",
       "    .dataframe tbody tr th:only-of-type {\n",
       "        vertical-align: middle;\n",
       "    }\n",
       "\n",
       "    .dataframe tbody tr th {\n",
       "        vertical-align: top;\n",
       "    }\n",
       "\n",
       "    .dataframe thead th {\n",
       "        text-align: right;\n",
       "    }\n",
       "</style>\n",
       "<table border=\"1\" class=\"dataframe\">\n",
       "  <thead>\n",
       "    <tr style=\"text-align: right;\">\n",
       "      <th></th>\n",
       "      <th>EmployeeId</th>\n",
       "      <th>UnitPrice</th>\n",
       "      <th>Discount</th>\n",
       "      <th>Quantity</th>\n",
       "      <th>totalinv</th>\n",
       "    </tr>\n",
       "  </thead>\n",
       "  <tbody>\n",
       "    <tr>\n",
       "      <th>0</th>\n",
       "      <td>5</td>\n",
       "      <td>14.0</td>\n",
       "      <td>0.0</td>\n",
       "      <td>12</td>\n",
       "      <td>168.0</td>\n",
       "    </tr>\n",
       "    <tr>\n",
       "      <th>1</th>\n",
       "      <td>5</td>\n",
       "      <td>9.8</td>\n",
       "      <td>0.0</td>\n",
       "      <td>10</td>\n",
       "      <td>98.0</td>\n",
       "    </tr>\n",
       "    <tr>\n",
       "      <th>2</th>\n",
       "      <td>5</td>\n",
       "      <td>34.8</td>\n",
       "      <td>0.0</td>\n",
       "      <td>5</td>\n",
       "      <td>174.0</td>\n",
       "    </tr>\n",
       "    <tr>\n",
       "      <th>3</th>\n",
       "      <td>6</td>\n",
       "      <td>18.6</td>\n",
       "      <td>0.0</td>\n",
       "      <td>9</td>\n",
       "      <td>167.4</td>\n",
       "    </tr>\n",
       "    <tr>\n",
       "      <th>4</th>\n",
       "      <td>6</td>\n",
       "      <td>42.4</td>\n",
       "      <td>0.0</td>\n",
       "      <td>40</td>\n",
       "      <td>1696.0</td>\n",
       "    </tr>\n",
       "  </tbody>\n",
       "</table>\n",
       "</div>"
      ],
      "text/plain": [
       "   EmployeeId  UnitPrice  Discount  Quantity  totalinv\n",
       "0           5       14.0       0.0        12     168.0\n",
       "1           5        9.8       0.0        10      98.0\n",
       "2           5       34.8       0.0         5     174.0\n",
       "3           6       18.6       0.0         9     167.4\n",
       "4           6       42.4       0.0        40    1696.0"
      ]
     },
     "execution_count": 67,
     "metadata": {},
     "output_type": "execute_result"
    }
   ],
   "source": [
    "emp_invoices.head()"
   ]
  },
  {
   "cell_type": "code",
   "execution_count": 68,
   "metadata": {},
   "outputs": [],
   "source": [
    "emp_invoices['trained']= 1"
   ]
  },
  {
   "cell_type": "code",
   "execution_count": 292,
   "metadata": {},
   "outputs": [],
   "source": [
    "nottrained=[1,4,8,9]\n",
    "for x in nottrained: \n",
    "    emp_invoices.loc[emp_invoices.EmployeeId==x,['trained']]=0"
   ]
  },
  {
   "cell_type": "code",
   "execution_count": 70,
   "metadata": {},
   "outputs": [],
   "source": [
    " emp_invoices['bilingual']=0"
   ]
  },
  {
   "cell_type": "code",
   "execution_count": 71,
   "metadata": {},
   "outputs": [],
   "source": [
    "bi=[2,6,8,9]\n",
    "for x in bi: \n",
    "    emp_invoices.loc[emp_invoices.EmployeeId==x,['bilingual']]=1"
   ]
  },
  {
   "cell_type": "code",
   "execution_count": 72,
   "metadata": {},
   "outputs": [
    {
     "data": {
      "text/html": [
       "<div>\n",
       "<style scoped>\n",
       "    .dataframe tbody tr th:only-of-type {\n",
       "        vertical-align: middle;\n",
       "    }\n",
       "\n",
       "    .dataframe tbody tr th {\n",
       "        vertical-align: top;\n",
       "    }\n",
       "\n",
       "    .dataframe thead th {\n",
       "        text-align: right;\n",
       "    }\n",
       "</style>\n",
       "<table border=\"1\" class=\"dataframe\">\n",
       "  <thead>\n",
       "    <tr style=\"text-align: right;\">\n",
       "      <th></th>\n",
       "      <th>EmployeeId</th>\n",
       "      <th>UnitPrice</th>\n",
       "      <th>Discount</th>\n",
       "      <th>Quantity</th>\n",
       "      <th>totalinv</th>\n",
       "      <th>trained</th>\n",
       "      <th>bilingual</th>\n",
       "    </tr>\n",
       "  </thead>\n",
       "  <tbody>\n",
       "    <tr>\n",
       "      <th>0</th>\n",
       "      <td>5</td>\n",
       "      <td>14.0</td>\n",
       "      <td>0.0</td>\n",
       "      <td>12</td>\n",
       "      <td>168.0</td>\n",
       "      <td>1</td>\n",
       "      <td>0</td>\n",
       "    </tr>\n",
       "    <tr>\n",
       "      <th>1</th>\n",
       "      <td>5</td>\n",
       "      <td>9.8</td>\n",
       "      <td>0.0</td>\n",
       "      <td>10</td>\n",
       "      <td>98.0</td>\n",
       "      <td>1</td>\n",
       "      <td>0</td>\n",
       "    </tr>\n",
       "    <tr>\n",
       "      <th>2</th>\n",
       "      <td>5</td>\n",
       "      <td>34.8</td>\n",
       "      <td>0.0</td>\n",
       "      <td>5</td>\n",
       "      <td>174.0</td>\n",
       "      <td>1</td>\n",
       "      <td>0</td>\n",
       "    </tr>\n",
       "    <tr>\n",
       "      <th>3</th>\n",
       "      <td>6</td>\n",
       "      <td>18.6</td>\n",
       "      <td>0.0</td>\n",
       "      <td>9</td>\n",
       "      <td>167.4</td>\n",
       "      <td>1</td>\n",
       "      <td>1</td>\n",
       "    </tr>\n",
       "    <tr>\n",
       "      <th>4</th>\n",
       "      <td>6</td>\n",
       "      <td>42.4</td>\n",
       "      <td>0.0</td>\n",
       "      <td>40</td>\n",
       "      <td>1696.0</td>\n",
       "      <td>1</td>\n",
       "      <td>1</td>\n",
       "    </tr>\n",
       "  </tbody>\n",
       "</table>\n",
       "</div>"
      ],
      "text/plain": [
       "   EmployeeId  UnitPrice  Discount  Quantity  totalinv  trained  bilingual\n",
       "0           5       14.0       0.0        12     168.0        1          0\n",
       "1           5        9.8       0.0        10      98.0        1          0\n",
       "2           5       34.8       0.0         5     174.0        1          0\n",
       "3           6       18.6       0.0         9     167.4        1          1\n",
       "4           6       42.4       0.0        40    1696.0        1          1"
      ]
     },
     "execution_count": 72,
     "metadata": {},
     "output_type": "execute_result"
    }
   ],
   "source": [
    "emp_invoices.head()"
   ]
  },
  {
   "cell_type": "code",
   "execution_count": 74,
   "metadata": {},
   "outputs": [],
   "source": [
    "trained_emp= emp_invoices[emp_invoices.trained==1]\n",
    "trained_emp=trained_emp['totalinv']\n",
    "nontrained_emp =emp_invoices[emp_invoices.trained==0]\n",
    "nontrained_emp=nontrained_emp['totalinv']"
   ]
  },
  {
   "cell_type": "code",
   "execution_count": 264,
   "metadata": {},
   "outputs": [
    {
     "data": {
      "text/plain": [
       "555.8028219964665"
      ]
     },
     "execution_count": 264,
     "metadata": {},
     "output_type": "execute_result"
    }
   ],
   "source": [
    "nontrained_emp.mean()"
   ]
  },
  {
   "cell_type": "code",
   "execution_count": 265,
   "metadata": {},
   "outputs": [
    {
     "data": {
      "text/plain": [
       "622.3110899315737"
      ]
     },
     "execution_count": 265,
     "metadata": {},
     "output_type": "execute_result"
    }
   ],
   "source": [
    "trained_emp.mean()"
   ]
  },
  {
   "cell_type": "code",
   "execution_count": 275,
   "metadata": {},
   "outputs": [
    {
     "data": {
      "text/plain": [
       "Text(0.5, 1.0, 'Average Sales by Employee Training')"
      ]
     },
     "execution_count": 275,
     "metadata": {},
     "output_type": "execute_result"
    },
    {
     "data": {
      "image/png": "[encoded data removed]",
      "text/plain": [
       "<Figure size 432x288 with 1 Axes>"
      ]
     },
     "metadata": {
      "needs_background": "light"
     },
     "output_type": "display_data"
    }
   ],
   "source": [
    "X = ['Trained', 'Not Trained']\n",
    "y = [trained_emp.mean(),\n",
    "     nontrained_emp.mean()]\n",
    "plt.bar(X,y, color=('grey'))\n",
    "plt.text(s=round(y[1],2), x=1, y=300, color=\"w\", horizontalalignment='center',size=18)\n",
    "plt.text(s=round(y[0],2), x=0, y=300, color=\"w\", horizontalalignment='center',size=18)\n",
    "plt.ylabel('Average Sales')\n",
    "plt.title('Average Sales by Employee Training')\n"
   ]
  },
  {
   "cell_type": "markdown",
   "metadata": {},
   "source": [
    "##### HO:Sales training has no effect on employee performance\n",
    "##### HA:Sales training has an effect on employee performance"
   ]
  },
  {
   "cell_type": "code",
   "execution_count": 266,
   "metadata": {},
   "outputs": [
    {
     "data": {
      "text/plain": [
       "LeveneResult(statistic=2.3383995993425803, pvalue=0.1263660680458331)"
      ]
     },
     "execution_count": 266,
     "metadata": {},
     "output_type": "execute_result"
    }
   ],
   "source": [
    "stats.levene(trained_emp, nontrained_emp)"
   ]
  },
  {
   "cell_type": "markdown",
   "metadata": {},
   "source": [
    "with p value greater than .05 fail to reject the null. The two groups have equal variances."
   ]
  },
  {
   "cell_type": "code",
   "execution_count": 267,
   "metadata": {},
   "outputs": [
    {
     "data": {
      "text/plain": [
       "Ttest_indResult(statistic=1.591267404874491, pvalue=0.11169621459793783)"
      ]
     },
     "execution_count": 267,
     "metadata": {},
     "output_type": "execute_result"
    }
   ],
   "source": [
    "# T test with equal variances\n",
    "stats.ttest_ind(trained_emp, nontrained_emp, equal_var=True)"
   ]
  },
  {
   "cell_type": "markdown",
   "metadata": {},
   "source": [
    "##### With p value greater than .05 we fail to reject the null. There is no sufficient evidence to conclude that sales training has an effect on employee performance."
   ]
  },
  {
   "cell_type": "markdown",
   "metadata": {},
   "source": [
    "# Does language have an effect on employee performance?"
   ]
  },
  {
   "cell_type": "markdown",
   "metadata": {},
   "source": [
    "##### HO:Language has no effect on employee performance\n",
    "##### HA:Language  has an effect on employee performance"
   ]
  },
  {
   "cell_type": "code",
   "execution_count": 76,
   "metadata": {},
   "outputs": [],
   "source": [
    "biling_emp= emp_invoices[emp_invoices.bilingual==1]\n",
    "biling_emp=biling_emp['totalinv']\n",
    "monoling_emp= emp_invoices[emp_invoices.bilingual==0]\n",
    "monoling_emp=monoling_emp['totalinv']"
   ]
  },
  {
   "cell_type": "code",
   "execution_count": 271,
   "metadata": {},
   "outputs": [
    {
     "data": {
      "text/plain": [
       "572.96550064433"
      ]
     },
     "execution_count": 271,
     "metadata": {},
     "output_type": "execute_result"
    }
   ],
   "source": [
    "biling_emp.mean()\n"
   ]
  },
  {
   "cell_type": "code",
   "execution_count": 272,
   "metadata": {},
   "outputs": [
    {
     "data": {
      "text/plain": [
       "595.4835467730239"
      ]
     },
     "execution_count": 272,
     "metadata": {},
     "output_type": "execute_result"
    }
   ],
   "source": [
    "monoling_emp.mean()"
   ]
  },
  {
   "cell_type": "code",
   "execution_count": 269,
   "metadata": {},
   "outputs": [
    {
     "data": {
      "text/plain": [
       "LeveneResult(statistic=0.3051923729563232, pvalue=0.5807027764690373)"
      ]
     },
     "execution_count": 269,
     "metadata": {},
     "output_type": "execute_result"
    }
   ],
   "source": [
    "# checking for equal variances\n",
    "stats.levene(monoling_emp, biling_emp)"
   ]
  },
  {
   "cell_type": "markdown",
   "metadata": {},
   "source": [
    "with p value greater than .05 fail to reject the null. The two groups have equal variances."
   ]
  },
  {
   "cell_type": "code",
   "execution_count": 270,
   "metadata": {},
   "outputs": [
    {
     "data": {
      "text/plain": [
       "Ttest_indResult(statistic=-0.5176330338990535, pvalue=0.6047675085201232)"
      ]
     },
     "execution_count": 270,
     "metadata": {},
     "output_type": "execute_result"
    }
   ],
   "source": [
    "# T test with equal variance\n",
    "stats.ttest_ind(biling_emp, monoling_emp, equal_var=True)"
   ]
  },
  {
   "cell_type": "markdown",
   "metadata": {},
   "source": [
    "##### With p value greater that .05 fail to reject the null.There is no sufficient evidence to conclude that language has an effect on employee performance. "
   ]
  },
  {
   "cell_type": "code",
   "execution_count": null,
   "metadata": {},
   "outputs": [],
   "source": []
  }
 ],
 "metadata": {
  "kernelspec": {
   "display_name": "Python [conda env:learn-env] *",
   "language": "python",
   "name": "conda-env-learn-env-py"
  },
  "language_info": {
   "codemirror_mode": {
    "name": "ipython",
    "version": 3
   },
   "file_extension": ".py",
   "mimetype": "text/x-python",
   "name": "python",
   "nbconvert_exporter": "python",
   "pygments_lexer": "ipython3",
   "version": "3.6.6"
  },
  "toc": {
   "base_numbering": 1,
   "nav_menu": {},
   "number_sections": true,
   "sideBar": true,
   "skip_h1_title": false,
   "title_cell": "Table of Contents",
   "title_sidebar": "Contents",
   "toc_cell": false,
   "toc_position": {},
   "toc_section_display": true,
   "toc_window_display": false
  }
 },
 "nbformat": 4,
 "nbformat_minor": 2
}
